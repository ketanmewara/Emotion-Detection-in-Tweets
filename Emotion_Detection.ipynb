{
  "cells": [
    {
      "cell_type": "markdown",
      "metadata": {
        "id": "x7fmSPvHNbyA"
      },
      "source": [
        "## Emotion Detection in Tweets"
      ]
    },
    {
      "cell_type": "markdown",
      "metadata": {
        "id": "82JJyLX3NbyE"
      },
      "source": [
        "# Load the dataset"
      ]
    },
    {
      "cell_type": "code",
      "execution_count": 104,
      "metadata": {
        "id": "p_3YlBNSNbyF"
      },
      "outputs": [],
      "source": [
        "import glob\n",
        "import pandas as pd\n",
        "import matplotlib.pyplot as plt\n",
        "import seaborn as sns\n",
        "import numpy as np\n",
        "import re\n",
        "\n",
        "\n",
        "import warnings\n",
        "warnings.filterwarnings('ignore')"
      ]
    },
    {
      "cell_type": "code",
      "execution_count": 97,
      "metadata": {
        "id": "h68DBYJJNbyH"
      },
      "outputs": [],
      "source": [
        "files = []\n",
        "for file in glob.glob(\"SemEval2018-Task1-all-data/SemEval2018-Task1-all-data/English/EI-reg/training/*.txt\"):\n",
        "    files.append(file)\n",
        "for file in glob.glob(\"SemEval2018-Task1-all-data/SemEval2018-Task1-all-data/English/EI-reg/development/*.txt\"):\n",
        "    files.append(file)"
      ]
    },
    {
      "cell_type": "code",
      "execution_count": 99,
      "metadata": {
        "id": "PWweUEj9NbyI"
      },
      "outputs": [],
      "source": [
        "data1 = pd.read_csv(f\"{files[0]}\",sep='\\t')\n",
        "data2 = pd.read_csv(f\"{files[1]}\",sep='\\t')\n",
        "data3 = pd.read_csv(f\"{files[2]}\",sep='\\t')\n",
        "data4 = pd.read_csv(f\"{files[3]}\",sep='\\t')\n",
        "data5 = pd.read_csv(f\"{files[4]}\",sep='\\t')\n",
        "data6 = pd.read_csv(f\"{files[5]}\",sep='\\t')\n",
        "data7 = pd.read_csv(f\"{files[6]}\",sep='\\t')\n",
        "data8 = pd.read_csv(f\"{files[7]}\",sep='\\t')"
      ]
    },
    {
      "cell_type": "code",
      "execution_count": 100,
      "metadata": {
        "id": "vQQ-pOzRNbyJ"
      },
      "outputs": [],
      "source": [
        "new_data = pd.concat([data1,data2,data3,data4,data5,data6,data7,data8],axis=0)"
      ]
    },
    {
      "cell_type": "code",
      "execution_count": 103,
      "metadata": {
        "id": "f7zBcb1kNbyL"
      },
      "outputs": [],
      "source": [
        "new_data = new_data.rename(columns={'Affect Dimension':'Emotions'})"
      ]
    },
    {
      "cell_type": "markdown",
      "metadata": {
        "id": "INPqLlHMNbyM"
      },
      "source": [
        "### Let's Filter the data based on intensity score here we will take the data above 0.5 intensity."
      ]
    },
    {
      "cell_type": "code",
      "execution_count": null,
      "metadata": {
        "id": "r8DFaCd3NbyM"
      },
      "outputs": [],
      "source": [
        "filter_data = new_data[new_data['Intensity Score'] >= 0.5]"
      ]
    },
    {
      "cell_type": "code",
      "execution_count": null,
      "metadata": {
        "id": "dt4BvB7PNbyN",
        "outputId": "a7b0cb1f-aaef-467b-987d-d00f4005b875"
      },
      "outputs": [
        {
          "data": {
            "text/html": [
              "<div>\n",
              "<style scoped>\n",
              "    .dataframe tbody tr th:only-of-type {\n",
              "        vertical-align: middle;\n",
              "    }\n",
              "\n",
              "    .dataframe tbody tr th {\n",
              "        vertical-align: top;\n",
              "    }\n",
              "\n",
              "    .dataframe thead th {\n",
              "        text-align: right;\n",
              "    }\n",
              "</style>\n",
              "<table border=\"1\" class=\"dataframe\">\n",
              "  <thead>\n",
              "    <tr style=\"text-align: right;\">\n",
              "      <th></th>\n",
              "      <th>ID</th>\n",
              "      <th>Tweet</th>\n",
              "      <th>Emotions</th>\n",
              "      <th>Intensity Score</th>\n",
              "    </tr>\n",
              "  </thead>\n",
              "  <tbody>\n",
              "    <tr>\n",
              "      <th>0</th>\n",
              "      <td>2017-En-10264</td>\n",
              "      <td>@xandraaa5 @amayaallyn6 shut up hashtags are c...</td>\n",
              "      <td>anger</td>\n",
              "      <td>0.562</td>\n",
              "    </tr>\n",
              "    <tr>\n",
              "      <th>1</th>\n",
              "      <td>2017-En-10072</td>\n",
              "      <td>it makes me so fucking irate jesus. nobody is ...</td>\n",
              "      <td>anger</td>\n",
              "      <td>0.750</td>\n",
              "    </tr>\n",
              "    <tr>\n",
              "      <th>8</th>\n",
              "      <td>2017-En-11507</td>\n",
              "      <td>@MisterAK47 it's very telling that racist bigo...</td>\n",
              "      <td>anger</td>\n",
              "      <td>0.556</td>\n",
              "    </tr>\n",
              "    <tr>\n",
              "      <th>11</th>\n",
              "      <td>2017-En-10946</td>\n",
              "      <td>@moocowward @mrsajhargreaves @Melly77 @GaryBar...</td>\n",
              "      <td>anger</td>\n",
              "      <td>0.583</td>\n",
              "    </tr>\n",
              "    <tr>\n",
              "      <th>12</th>\n",
              "      <td>2017-En-10940</td>\n",
              "      <td>Lol little things like that make me so angry x</td>\n",
              "      <td>anger</td>\n",
              "      <td>0.604</td>\n",
              "    </tr>\n",
              "    <tr>\n",
              "      <th>...</th>\n",
              "      <td>...</td>\n",
              "      <td>...</td>\n",
              "      <td>...</td>\n",
              "      <td>...</td>\n",
              "    </tr>\n",
              "    <tr>\n",
              "      <th>391</th>\n",
              "      <td>2018-En-03622</td>\n",
              "      <td>Why the FUCK have i just saw a Game of Thrones...</td>\n",
              "      <td>sadness</td>\n",
              "      <td>0.550</td>\n",
              "    </tr>\n",
              "    <tr>\n",
              "      <th>392</th>\n",
              "      <td>2018-En-00994</td>\n",
              "      <td>@JeffBezos @amazon Who can I talk to about bei...</td>\n",
              "      <td>sadness</td>\n",
              "      <td>0.553</td>\n",
              "    </tr>\n",
              "    <tr>\n",
              "      <th>393</th>\n",
              "      <td>2018-En-03770</td>\n",
              "      <td>Brown envelopes can induce panic. #posttruth</td>\n",
              "      <td>sadness</td>\n",
              "      <td>0.522</td>\n",
              "    </tr>\n",
              "    <tr>\n",
              "      <th>395</th>\n",
              "      <td>2018-En-04002</td>\n",
              "      <td>and after i got home in such a horrible mood m...</td>\n",
              "      <td>sadness</td>\n",
              "      <td>0.727</td>\n",
              "    </tr>\n",
              "    <tr>\n",
              "      <th>396</th>\n",
              "      <td>2018-En-02112</td>\n",
              "      <td>hit by a sudden wave of sadness</td>\n",
              "      <td>sadness</td>\n",
              "      <td>0.800</td>\n",
              "    </tr>\n",
              "  </tbody>\n",
              "</table>\n",
              "<p>4300 rows × 4 columns</p>\n",
              "</div>"
            ],
            "text/plain": [
              "                ID                                              Tweet  \\\n",
              "0    2017-En-10264  @xandraaa5 @amayaallyn6 shut up hashtags are c...   \n",
              "1    2017-En-10072  it makes me so fucking irate jesus. nobody is ...   \n",
              "8    2017-En-11507  @MisterAK47 it's very telling that racist bigo...   \n",
              "11   2017-En-10946  @moocowward @mrsajhargreaves @Melly77 @GaryBar...   \n",
              "12   2017-En-10940     Lol little things like that make me so angry x   \n",
              "..             ...                                                ...   \n",
              "391  2018-En-03622  Why the FUCK have i just saw a Game of Thrones...   \n",
              "392  2018-En-00994  @JeffBezos @amazon Who can I talk to about bei...   \n",
              "393  2018-En-03770       Brown envelopes can induce panic. #posttruth   \n",
              "395  2018-En-04002  and after i got home in such a horrible mood m...   \n",
              "396  2018-En-02112                    hit by a sudden wave of sadness   \n",
              "\n",
              "    Emotions  Intensity Score  \n",
              "0      anger            0.562  \n",
              "1      anger            0.750  \n",
              "8      anger            0.556  \n",
              "11     anger            0.583  \n",
              "12     anger            0.604  \n",
              "..       ...              ...  \n",
              "391  sadness            0.550  \n",
              "392  sadness            0.553  \n",
              "393  sadness            0.522  \n",
              "395  sadness            0.727  \n",
              "396  sadness            0.800  \n",
              "\n",
              "[4300 rows x 4 columns]"
            ]
          },
          "execution_count": 10,
          "metadata": {},
          "output_type": "execute_result"
        }
      ],
      "source": [
        "filter_data"
      ]
    },
    {
      "cell_type": "code",
      "execution_count": null,
      "metadata": {
        "id": "tHXROW3wNbyN"
      },
      "outputs": [],
      "source": [
        "# now we will drop unnecessary fetures\n",
        "filter_data.drop(['ID','Intensity Score'], axis=1, inplace=True)"
      ]
    },
    {
      "cell_type": "code",
      "execution_count": null,
      "metadata": {
        "id": "V6wyzJYtNbyN",
        "outputId": "84acae7f-43bd-49a6-a5bd-89764d0411a5"
      },
      "outputs": [
        {
          "data": {
            "text/html": [
              "<div>\n",
              "<style scoped>\n",
              "    .dataframe tbody tr th:only-of-type {\n",
              "        vertical-align: middle;\n",
              "    }\n",
              "\n",
              "    .dataframe tbody tr th {\n",
              "        vertical-align: top;\n",
              "    }\n",
              "\n",
              "    .dataframe thead th {\n",
              "        text-align: right;\n",
              "    }\n",
              "</style>\n",
              "<table border=\"1\" class=\"dataframe\">\n",
              "  <thead>\n",
              "    <tr style=\"text-align: right;\">\n",
              "      <th></th>\n",
              "      <th>Tweet</th>\n",
              "      <th>Emotions</th>\n",
              "    </tr>\n",
              "  </thead>\n",
              "  <tbody>\n",
              "    <tr>\n",
              "      <th>0</th>\n",
              "      <td>@xandraaa5 @amayaallyn6 shut up hashtags are c...</td>\n",
              "      <td>anger</td>\n",
              "    </tr>\n",
              "    <tr>\n",
              "      <th>1</th>\n",
              "      <td>it makes me so fucking irate jesus. nobody is ...</td>\n",
              "      <td>anger</td>\n",
              "    </tr>\n",
              "    <tr>\n",
              "      <th>8</th>\n",
              "      <td>@MisterAK47 it's very telling that racist bigo...</td>\n",
              "      <td>anger</td>\n",
              "    </tr>\n",
              "    <tr>\n",
              "      <th>11</th>\n",
              "      <td>@moocowward @mrsajhargreaves @Melly77 @GaryBar...</td>\n",
              "      <td>anger</td>\n",
              "    </tr>\n",
              "    <tr>\n",
              "      <th>12</th>\n",
              "      <td>Lol little things like that make me so angry x</td>\n",
              "      <td>anger</td>\n",
              "    </tr>\n",
              "  </tbody>\n",
              "</table>\n",
              "</div>"
            ],
            "text/plain": [
              "                                                Tweet Emotions\n",
              "0   @xandraaa5 @amayaallyn6 shut up hashtags are c...    anger\n",
              "1   it makes me so fucking irate jesus. nobody is ...    anger\n",
              "8   @MisterAK47 it's very telling that racist bigo...    anger\n",
              "11  @moocowward @mrsajhargreaves @Melly77 @GaryBar...    anger\n",
              "12     Lol little things like that make me so angry x    anger"
            ]
          },
          "execution_count": 12,
          "metadata": {},
          "output_type": "execute_result"
        }
      ],
      "source": [
        "filter_data.head()"
      ]
    },
    {
      "cell_type": "code",
      "execution_count": 3,
      "metadata": {
        "colab": {
          "base_uri": "https://localhost:8080/",
          "height": 206
        },
        "id": "PCnv-Y2iNbyO",
        "outputId": "c2790402-c904-401c-c258-dc380092c897"
      },
      "outputs": [
        {
          "output_type": "execute_result",
          "data": {
            "text/plain": [
              "                                               Tweet Emotions\n",
              "0  @xandraaa5 @amayaallyn6 shut up hashtags are c...    anger\n",
              "1  it makes me so fucking irate jesus. nobody is ...    anger\n",
              "2  @MisterAK47 it's very telling that racist bigo...    anger\n",
              "3  @moocowward @mrsajhargreaves @Melly77 @GaryBar...    anger\n",
              "4     Lol little things like that make me so angry x    anger"
            ],
            "text/html": [
              "\n",
              "  <div id=\"df-91eb2cf1-d146-4c7b-ab0e-48fe8f4e7ff1\">\n",
              "    <div class=\"colab-df-container\">\n",
              "      <div>\n",
              "<style scoped>\n",
              "    .dataframe tbody tr th:only-of-type {\n",
              "        vertical-align: middle;\n",
              "    }\n",
              "\n",
              "    .dataframe tbody tr th {\n",
              "        vertical-align: top;\n",
              "    }\n",
              "\n",
              "    .dataframe thead th {\n",
              "        text-align: right;\n",
              "    }\n",
              "</style>\n",
              "<table border=\"1\" class=\"dataframe\">\n",
              "  <thead>\n",
              "    <tr style=\"text-align: right;\">\n",
              "      <th></th>\n",
              "      <th>Tweet</th>\n",
              "      <th>Emotions</th>\n",
              "    </tr>\n",
              "  </thead>\n",
              "  <tbody>\n",
              "    <tr>\n",
              "      <th>0</th>\n",
              "      <td>@xandraaa5 @amayaallyn6 shut up hashtags are c...</td>\n",
              "      <td>anger</td>\n",
              "    </tr>\n",
              "    <tr>\n",
              "      <th>1</th>\n",
              "      <td>it makes me so fucking irate jesus. nobody is ...</td>\n",
              "      <td>anger</td>\n",
              "    </tr>\n",
              "    <tr>\n",
              "      <th>2</th>\n",
              "      <td>@MisterAK47 it's very telling that racist bigo...</td>\n",
              "      <td>anger</td>\n",
              "    </tr>\n",
              "    <tr>\n",
              "      <th>3</th>\n",
              "      <td>@moocowward @mrsajhargreaves @Melly77 @GaryBar...</td>\n",
              "      <td>anger</td>\n",
              "    </tr>\n",
              "    <tr>\n",
              "      <th>4</th>\n",
              "      <td>Lol little things like that make me so angry x</td>\n",
              "      <td>anger</td>\n",
              "    </tr>\n",
              "  </tbody>\n",
              "</table>\n",
              "</div>\n",
              "      <button class=\"colab-df-convert\" onclick=\"convertToInteractive('df-91eb2cf1-d146-4c7b-ab0e-48fe8f4e7ff1')\"\n",
              "              title=\"Convert this dataframe to an interactive table.\"\n",
              "              style=\"display:none;\">\n",
              "        \n",
              "  <svg xmlns=\"http://www.w3.org/2000/svg\" height=\"24px\"viewBox=\"0 0 24 24\"\n",
              "       width=\"24px\">\n",
              "    <path d=\"M0 0h24v24H0V0z\" fill=\"none\"/>\n",
              "    <path d=\"M18.56 5.44l.94 2.06.94-2.06 2.06-.94-2.06-.94-.94-2.06-.94 2.06-2.06.94zm-11 1L8.5 8.5l.94-2.06 2.06-.94-2.06-.94L8.5 2.5l-.94 2.06-2.06.94zm10 10l.94 2.06.94-2.06 2.06-.94-2.06-.94-.94-2.06-.94 2.06-2.06.94z\"/><path d=\"M17.41 7.96l-1.37-1.37c-.4-.4-.92-.59-1.43-.59-.52 0-1.04.2-1.43.59L10.3 9.45l-7.72 7.72c-.78.78-.78 2.05 0 2.83L4 21.41c.39.39.9.59 1.41.59.51 0 1.02-.2 1.41-.59l7.78-7.78 2.81-2.81c.8-.78.8-2.07 0-2.86zM5.41 20L4 18.59l7.72-7.72 1.47 1.35L5.41 20z\"/>\n",
              "  </svg>\n",
              "      </button>\n",
              "      \n",
              "  <style>\n",
              "    .colab-df-container {\n",
              "      display:flex;\n",
              "      flex-wrap:wrap;\n",
              "      gap: 12px;\n",
              "    }\n",
              "\n",
              "    .colab-df-convert {\n",
              "      background-color: #E8F0FE;\n",
              "      border: none;\n",
              "      border-radius: 50%;\n",
              "      cursor: pointer;\n",
              "      display: none;\n",
              "      fill: #1967D2;\n",
              "      height: 32px;\n",
              "      padding: 0 0 0 0;\n",
              "      width: 32px;\n",
              "    }\n",
              "\n",
              "    .colab-df-convert:hover {\n",
              "      background-color: #E2EBFA;\n",
              "      box-shadow: 0px 1px 2px rgba(60, 64, 67, 0.3), 0px 1px 3px 1px rgba(60, 64, 67, 0.15);\n",
              "      fill: #174EA6;\n",
              "    }\n",
              "\n",
              "    [theme=dark] .colab-df-convert {\n",
              "      background-color: #3B4455;\n",
              "      fill: #D2E3FC;\n",
              "    }\n",
              "\n",
              "    [theme=dark] .colab-df-convert:hover {\n",
              "      background-color: #434B5C;\n",
              "      box-shadow: 0px 1px 3px 1px rgba(0, 0, 0, 0.15);\n",
              "      filter: drop-shadow(0px 1px 2px rgba(0, 0, 0, 0.3));\n",
              "      fill: #FFFFFF;\n",
              "    }\n",
              "  </style>\n",
              "\n",
              "      <script>\n",
              "        const buttonEl =\n",
              "          document.querySelector('#df-91eb2cf1-d146-4c7b-ab0e-48fe8f4e7ff1 button.colab-df-convert');\n",
              "        buttonEl.style.display =\n",
              "          google.colab.kernel.accessAllowed ? 'block' : 'none';\n",
              "\n",
              "        async function convertToInteractive(key) {\n",
              "          const element = document.querySelector('#df-91eb2cf1-d146-4c7b-ab0e-48fe8f4e7ff1');\n",
              "          const dataTable =\n",
              "            await google.colab.kernel.invokeFunction('convertToInteractive',\n",
              "                                                     [key], {});\n",
              "          if (!dataTable) return;\n",
              "\n",
              "          const docLinkHtml = 'Like what you see? Visit the ' +\n",
              "            '<a target=\"_blank\" href=https://colab.research.google.com/notebooks/data_table.ipynb>data table notebook</a>'\n",
              "            + ' to learn more about interactive tables.';\n",
              "          element.innerHTML = '';\n",
              "          dataTable['output_type'] = 'display_data';\n",
              "          await google.colab.output.renderOutput(dataTable, element);\n",
              "          const docLink = document.createElement('div');\n",
              "          docLink.innerHTML = docLinkHtml;\n",
              "          element.appendChild(docLink);\n",
              "        }\n",
              "      </script>\n",
              "    </div>\n",
              "  </div>\n",
              "  "
            ]
          },
          "metadata": {},
          "execution_count": 3
        }
      ],
      "source": [
        "df = pd.read_csv('emotion_dataset.csv')\n",
        "df.head()"
      ]
    },
    {
      "cell_type": "code",
      "execution_count": null,
      "metadata": {
        "id": "JJXEyCQkNbyO",
        "outputId": "83fb7aa1-c6ab-4564-afce-b0d0bb0c8252"
      },
      "outputs": [
        {
          "data": {
            "text/html": [
              "<div>\n",
              "<style scoped>\n",
              "    .dataframe tbody tr th:only-of-type {\n",
              "        vertical-align: middle;\n",
              "    }\n",
              "\n",
              "    .dataframe tbody tr th {\n",
              "        vertical-align: top;\n",
              "    }\n",
              "\n",
              "    .dataframe thead th {\n",
              "        text-align: right;\n",
              "    }\n",
              "</style>\n",
              "<table border=\"1\" class=\"dataframe\">\n",
              "  <thead>\n",
              "    <tr style=\"text-align: right;\">\n",
              "      <th></th>\n",
              "      <th>Tweet</th>\n",
              "      <th>Emotions</th>\n",
              "    </tr>\n",
              "  </thead>\n",
              "  <tbody>\n",
              "    <tr>\n",
              "      <th>0</th>\n",
              "      <td>@xandraaa5 @amayaallyn6 shut up hashtags are c...</td>\n",
              "      <td>anger</td>\n",
              "    </tr>\n",
              "    <tr>\n",
              "      <th>1</th>\n",
              "      <td>it makes me so fucking irate jesus. nobody is ...</td>\n",
              "      <td>anger</td>\n",
              "    </tr>\n",
              "    <tr>\n",
              "      <th>2</th>\n",
              "      <td>@MisterAK47 it's very telling that racist bigo...</td>\n",
              "      <td>anger</td>\n",
              "    </tr>\n",
              "    <tr>\n",
              "      <th>3</th>\n",
              "      <td>@moocowward @mrsajhargreaves @Melly77 @GaryBar...</td>\n",
              "      <td>anger</td>\n",
              "    </tr>\n",
              "    <tr>\n",
              "      <th>4</th>\n",
              "      <td>Lol little things like that make me so angry x</td>\n",
              "      <td>anger</td>\n",
              "    </tr>\n",
              "  </tbody>\n",
              "</table>\n",
              "</div>"
            ],
            "text/plain": [
              "                                               Tweet Emotions\n",
              "0  @xandraaa5 @amayaallyn6 shut up hashtags are c...    anger\n",
              "1  it makes me so fucking irate jesus. nobody is ...    anger\n",
              "2  @MisterAK47 it's very telling that racist bigo...    anger\n",
              "3  @moocowward @mrsajhargreaves @Melly77 @GaryBar...    anger\n",
              "4     Lol little things like that make me so angry x    anger"
            ]
          },
          "execution_count": 14,
          "metadata": {},
          "output_type": "execute_result"
        }
      ],
      "source": [
        "emotions_dataset = filter_data.append(df)\n",
        "emotions_dataset = emotions_dataset.reset_index(drop=True)\n",
        "emotions_dataset.head()"
      ]
    },
    {
      "cell_type": "code",
      "source": [
        "emotions_dataset.to_csv('emotions.csv',index=False)"
      ],
      "metadata": {
        "id": "Q4V0n_8Bf5qs"
      },
      "execution_count": null,
      "outputs": []
    },
    {
      "cell_type": "code",
      "source": [
        "emotions_dataset = pd.read_csv('/content/drive/MyDrive/Colab Notebooks/Emotion Detection/emotions_dataset.csv')\n",
        "emotions_dataset.head()"
      ],
      "metadata": {
        "colab": {
          "base_uri": "https://localhost:8080/",
          "height": 206
        },
        "id": "ja5ppBWKOKF4",
        "outputId": "0e50269d-6e04-48d2-b2b6-0c5c20467093"
      },
      "execution_count": 5,
      "outputs": [
        {
          "output_type": "execute_result",
          "data": {
            "text/plain": [
              "                                               Tweet Emotions\n",
              "0  @xandraaa5 @amayaallyn6 shut up hashtags are c...    anger\n",
              "1  it makes me so fucking irate jesus. nobody is ...    anger\n",
              "2  @MisterAK47 it's very telling that racist bigo...    anger\n",
              "3  @moocowward @mrsajhargreaves @Melly77 @GaryBar...    anger\n",
              "4     Lol little things like that make me so angry x    anger"
            ],
            "text/html": [
              "\n",
              "  <div id=\"df-6df410e3-0fdc-423c-a396-25ffb02e9a85\">\n",
              "    <div class=\"colab-df-container\">\n",
              "      <div>\n",
              "<style scoped>\n",
              "    .dataframe tbody tr th:only-of-type {\n",
              "        vertical-align: middle;\n",
              "    }\n",
              "\n",
              "    .dataframe tbody tr th {\n",
              "        vertical-align: top;\n",
              "    }\n",
              "\n",
              "    .dataframe thead th {\n",
              "        text-align: right;\n",
              "    }\n",
              "</style>\n",
              "<table border=\"1\" class=\"dataframe\">\n",
              "  <thead>\n",
              "    <tr style=\"text-align: right;\">\n",
              "      <th></th>\n",
              "      <th>Tweet</th>\n",
              "      <th>Emotions</th>\n",
              "    </tr>\n",
              "  </thead>\n",
              "  <tbody>\n",
              "    <tr>\n",
              "      <th>0</th>\n",
              "      <td>@xandraaa5 @amayaallyn6 shut up hashtags are c...</td>\n",
              "      <td>anger</td>\n",
              "    </tr>\n",
              "    <tr>\n",
              "      <th>1</th>\n",
              "      <td>it makes me so fucking irate jesus. nobody is ...</td>\n",
              "      <td>anger</td>\n",
              "    </tr>\n",
              "    <tr>\n",
              "      <th>2</th>\n",
              "      <td>@MisterAK47 it's very telling that racist bigo...</td>\n",
              "      <td>anger</td>\n",
              "    </tr>\n",
              "    <tr>\n",
              "      <th>3</th>\n",
              "      <td>@moocowward @mrsajhargreaves @Melly77 @GaryBar...</td>\n",
              "      <td>anger</td>\n",
              "    </tr>\n",
              "    <tr>\n",
              "      <th>4</th>\n",
              "      <td>Lol little things like that make me so angry x</td>\n",
              "      <td>anger</td>\n",
              "    </tr>\n",
              "  </tbody>\n",
              "</table>\n",
              "</div>\n",
              "      <button class=\"colab-df-convert\" onclick=\"convertToInteractive('df-6df410e3-0fdc-423c-a396-25ffb02e9a85')\"\n",
              "              title=\"Convert this dataframe to an interactive table.\"\n",
              "              style=\"display:none;\">\n",
              "        \n",
              "  <svg xmlns=\"http://www.w3.org/2000/svg\" height=\"24px\"viewBox=\"0 0 24 24\"\n",
              "       width=\"24px\">\n",
              "    <path d=\"M0 0h24v24H0V0z\" fill=\"none\"/>\n",
              "    <path d=\"M18.56 5.44l.94 2.06.94-2.06 2.06-.94-2.06-.94-.94-2.06-.94 2.06-2.06.94zm-11 1L8.5 8.5l.94-2.06 2.06-.94-2.06-.94L8.5 2.5l-.94 2.06-2.06.94zm10 10l.94 2.06.94-2.06 2.06-.94-2.06-.94-.94-2.06-.94 2.06-2.06.94z\"/><path d=\"M17.41 7.96l-1.37-1.37c-.4-.4-.92-.59-1.43-.59-.52 0-1.04.2-1.43.59L10.3 9.45l-7.72 7.72c-.78.78-.78 2.05 0 2.83L4 21.41c.39.39.9.59 1.41.59.51 0 1.02-.2 1.41-.59l7.78-7.78 2.81-2.81c.8-.78.8-2.07 0-2.86zM5.41 20L4 18.59l7.72-7.72 1.47 1.35L5.41 20z\"/>\n",
              "  </svg>\n",
              "      </button>\n",
              "      \n",
              "  <style>\n",
              "    .colab-df-container {\n",
              "      display:flex;\n",
              "      flex-wrap:wrap;\n",
              "      gap: 12px;\n",
              "    }\n",
              "\n",
              "    .colab-df-convert {\n",
              "      background-color: #E8F0FE;\n",
              "      border: none;\n",
              "      border-radius: 50%;\n",
              "      cursor: pointer;\n",
              "      display: none;\n",
              "      fill: #1967D2;\n",
              "      height: 32px;\n",
              "      padding: 0 0 0 0;\n",
              "      width: 32px;\n",
              "    }\n",
              "\n",
              "    .colab-df-convert:hover {\n",
              "      background-color: #E2EBFA;\n",
              "      box-shadow: 0px 1px 2px rgba(60, 64, 67, 0.3), 0px 1px 3px 1px rgba(60, 64, 67, 0.15);\n",
              "      fill: #174EA6;\n",
              "    }\n",
              "\n",
              "    [theme=dark] .colab-df-convert {\n",
              "      background-color: #3B4455;\n",
              "      fill: #D2E3FC;\n",
              "    }\n",
              "\n",
              "    [theme=dark] .colab-df-convert:hover {\n",
              "      background-color: #434B5C;\n",
              "      box-shadow: 0px 1px 3px 1px rgba(0, 0, 0, 0.15);\n",
              "      filter: drop-shadow(0px 1px 2px rgba(0, 0, 0, 0.3));\n",
              "      fill: #FFFFFF;\n",
              "    }\n",
              "  </style>\n",
              "\n",
              "      <script>\n",
              "        const buttonEl =\n",
              "          document.querySelector('#df-6df410e3-0fdc-423c-a396-25ffb02e9a85 button.colab-df-convert');\n",
              "        buttonEl.style.display =\n",
              "          google.colab.kernel.accessAllowed ? 'block' : 'none';\n",
              "\n",
              "        async function convertToInteractive(key) {\n",
              "          const element = document.querySelector('#df-6df410e3-0fdc-423c-a396-25ffb02e9a85');\n",
              "          const dataTable =\n",
              "            await google.colab.kernel.invokeFunction('convertToInteractive',\n",
              "                                                     [key], {});\n",
              "          if (!dataTable) return;\n",
              "\n",
              "          const docLinkHtml = 'Like what you see? Visit the ' +\n",
              "            '<a target=\"_blank\" href=https://colab.research.google.com/notebooks/data_table.ipynb>data table notebook</a>'\n",
              "            + ' to learn more about interactive tables.';\n",
              "          element.innerHTML = '';\n",
              "          dataTable['output_type'] = 'display_data';\n",
              "          await google.colab.output.renderOutput(dataTable, element);\n",
              "          const docLink = document.createElement('div');\n",
              "          docLink.innerHTML = docLinkHtml;\n",
              "          element.appendChild(docLink);\n",
              "        }\n",
              "      </script>\n",
              "    </div>\n",
              "  </div>\n",
              "  "
            ]
          },
          "metadata": {},
          "execution_count": 5
        }
      ]
    },
    {
      "cell_type": "markdown",
      "metadata": {
        "id": "HnMAqTthNbyO"
      },
      "source": [
        "## Exploratory data analysis"
      ]
    },
    {
      "cell_type": "code",
      "execution_count": 6,
      "metadata": {
        "colab": {
          "base_uri": "https://localhost:8080/",
          "height": 334
        },
        "id": "Y8P1LV3cNbyP",
        "outputId": "0cb884c0-fa5a-46d3-c9fe-bbe65aa8a071"
      },
      "outputs": [
        {
          "output_type": "display_data",
          "data": {
            "text/plain": [
              "<Figure size 720x360 with 1 Axes>"
            ],
            "image/png": "[encoded data removed]"
          },
          "metadata": {
            "needs_background": "light"
          }
        }
      ],
      "source": [
        "plt.figure(figsize=(10,5))\n",
        "sns.countplot(x='Emotions', data=emotions_dataset)\n",
        "plt.show()"
      ]
    },
    {
      "cell_type": "markdown",
      "metadata": {
        "id": "3OuB8fDwNbyP"
      },
      "source": [
        "# Data Cleaning"
      ]
    },
    {
      "cell_type": "code",
      "execution_count": 7,
      "metadata": {
        "id": "WeiY4PXXNbyP"
      },
      "outputs": [],
      "source": [
        "# Remove Unwanted text pattern and word from the tweets\n",
        "def remove_text(input_txt, pattern):\n",
        "    r = re.findall(pattern,input_txt)\n",
        "    for i in r:\n",
        "        input_txt = re.sub(i, '', input_txt)\n",
        "    return input_txt"
      ]
    },
    {
      "cell_type": "code",
      "execution_count": 8,
      "metadata": {
        "id": "QTts73qlNbyQ"
      },
      "outputs": [],
      "source": [
        "# 1. Remove @user\n",
        "emotions_dataset['clean_tweets'] = np.vectorize(remove_text)(emotions_dataset['Tweet'],\"@[\\w]*\")"
      ]
    },
    {
      "cell_type": "code",
      "execution_count": 9,
      "metadata": {
        "colab": {
          "base_uri": "https://localhost:8080/",
          "height": 285
        },
        "id": "xPbTyN8eNbyQ",
        "outputId": "3a3041aa-5239-4e65-f91d-cc9bd48e3557"
      },
      "outputs": [
        {
          "output_type": "execute_result",
          "data": {
            "text/plain": [
              "                                               Tweet Emotions  \\\n",
              "0  @xandraaa5 @amayaallyn6 shut up hashtags are c...    anger   \n",
              "1  it makes me so fucking irate jesus. nobody is ...    anger   \n",
              "2  @MisterAK47 it's very telling that racist bigo...    anger   \n",
              "3  @moocowward @mrsajhargreaves @Melly77 @GaryBar...    anger   \n",
              "4     Lol little things like that make me so angry x    anger   \n",
              "\n",
              "                                        clean_tweets  \n",
              "0                shut up hashtags are cool #offended  \n",
              "1  it makes me so fucking irate jesus. nobody is ...  \n",
              "2   it's very telling that racist bigots always r...  \n",
              "3      if he can't come to my Mum'a 60th after 25...  \n",
              "4     Lol little things like that make me so angry x  "
            ],
            "text/html": [
              "\n",
              "  <div id=\"df-7f0c3905-fc8f-4faf-b825-c61616a00eba\">\n",
              "    <div class=\"colab-df-container\">\n",
              "      <div>\n",
              "<style scoped>\n",
              "    .dataframe tbody tr th:only-of-type {\n",
              "        vertical-align: middle;\n",
              "    }\n",
              "\n",
              "    .dataframe tbody tr th {\n",
              "        vertical-align: top;\n",
              "    }\n",
              "\n",
              "    .dataframe thead th {\n",
              "        text-align: right;\n",
              "    }\n",
              "</style>\n",
              "<table border=\"1\" class=\"dataframe\">\n",
              "  <thead>\n",
              "    <tr style=\"text-align: right;\">\n",
              "      <th></th>\n",
              "      <th>Tweet</th>\n",
              "      <th>Emotions</th>\n",
              "      <th>clean_tweets</th>\n",
              "    </tr>\n",
              "  </thead>\n",
              "  <tbody>\n",
              "    <tr>\n",
              "      <th>0</th>\n",
              "      <td>@xandraaa5 @amayaallyn6 shut up hashtags are c...</td>\n",
              "      <td>anger</td>\n",
              "      <td>shut up hashtags are cool #offended</td>\n",
              "    </tr>\n",
              "    <tr>\n",
              "      <th>1</th>\n",
              "      <td>it makes me so fucking irate jesus. nobody is ...</td>\n",
              "      <td>anger</td>\n",
              "      <td>it makes me so fucking irate jesus. nobody is ...</td>\n",
              "    </tr>\n",
              "    <tr>\n",
              "      <th>2</th>\n",
              "      <td>@MisterAK47 it's very telling that racist bigo...</td>\n",
              "      <td>anger</td>\n",
              "      <td>it's very telling that racist bigots always r...</td>\n",
              "    </tr>\n",
              "    <tr>\n",
              "      <th>3</th>\n",
              "      <td>@moocowward @mrsajhargreaves @Melly77 @GaryBar...</td>\n",
              "      <td>anger</td>\n",
              "      <td>if he can't come to my Mum'a 60th after 25...</td>\n",
              "    </tr>\n",
              "    <tr>\n",
              "      <th>4</th>\n",
              "      <td>Lol little things like that make me so angry x</td>\n",
              "      <td>anger</td>\n",
              "      <td>Lol little things like that make me so angry x</td>\n",
              "    </tr>\n",
              "  </tbody>\n",
              "</table>\n",
              "</div>\n",
              "      <button class=\"colab-df-convert\" onclick=\"convertToInteractive('df-7f0c3905-fc8f-4faf-b825-c61616a00eba')\"\n",
              "              title=\"Convert this dataframe to an interactive table.\"\n",
              "              style=\"display:none;\">\n",
              "        \n",
              "  <svg xmlns=\"http://www.w3.org/2000/svg\" height=\"24px\"viewBox=\"0 0 24 24\"\n",
              "       width=\"24px\">\n",
              "    <path d=\"M0 0h24v24H0V0z\" fill=\"none\"/>\n",
              "    <path d=\"M18.56 5.44l.94 2.06.94-2.06 2.06-.94-2.06-.94-.94-2.06-.94 2.06-2.06.94zm-11 1L8.5 8.5l.94-2.06 2.06-.94-2.06-.94L8.5 2.5l-.94 2.06-2.06.94zm10 10l.94 2.06.94-2.06 2.06-.94-2.06-.94-.94-2.06-.94 2.06-2.06.94z\"/><path d=\"M17.41 7.96l-1.37-1.37c-.4-.4-.92-.59-1.43-.59-.52 0-1.04.2-1.43.59L10.3 9.45l-7.72 7.72c-.78.78-.78 2.05 0 2.83L4 21.41c.39.39.9.59 1.41.59.51 0 1.02-.2 1.41-.59l7.78-7.78 2.81-2.81c.8-.78.8-2.07 0-2.86zM5.41 20L4 18.59l7.72-7.72 1.47 1.35L5.41 20z\"/>\n",
              "  </svg>\n",
              "      </button>\n",
              "      \n",
              "  <style>\n",
              "    .colab-df-container {\n",
              "      display:flex;\n",
              "      flex-wrap:wrap;\n",
              "      gap: 12px;\n",
              "    }\n",
              "\n",
              "    .colab-df-convert {\n",
              "      background-color: #E8F0FE;\n",
              "      border: none;\n",
              "      border-radius: 50%;\n",
              "      cursor: pointer;\n",
              "      display: none;\n",
              "      fill: #1967D2;\n",
              "      height: 32px;\n",
              "      padding: 0 0 0 0;\n",
              "      width: 32px;\n",
              "    }\n",
              "\n",
              "    .colab-df-convert:hover {\n",
              "      background-color: #E2EBFA;\n",
              "      box-shadow: 0px 1px 2px rgba(60, 64, 67, 0.3), 0px 1px 3px 1px rgba(60, 64, 67, 0.15);\n",
              "      fill: #174EA6;\n",
              "    }\n",
              "\n",
              "    [theme=dark] .colab-df-convert {\n",
              "      background-color: #3B4455;\n",
              "      fill: #D2E3FC;\n",
              "    }\n",
              "\n",
              "    [theme=dark] .colab-df-convert:hover {\n",
              "      background-color: #434B5C;\n",
              "      box-shadow: 0px 1px 3px 1px rgba(0, 0, 0, 0.15);\n",
              "      filter: drop-shadow(0px 1px 2px rgba(0, 0, 0, 0.3));\n",
              "      fill: #FFFFFF;\n",
              "    }\n",
              "  </style>\n",
              "\n",
              "      <script>\n",
              "        const buttonEl =\n",
              "          document.querySelector('#df-7f0c3905-fc8f-4faf-b825-c61616a00eba button.colab-df-convert');\n",
              "        buttonEl.style.display =\n",
              "          google.colab.kernel.accessAllowed ? 'block' : 'none';\n",
              "\n",
              "        async function convertToInteractive(key) {\n",
              "          const element = document.querySelector('#df-7f0c3905-fc8f-4faf-b825-c61616a00eba');\n",
              "          const dataTable =\n",
              "            await google.colab.kernel.invokeFunction('convertToInteractive',\n",
              "                                                     [key], {});\n",
              "          if (!dataTable) return;\n",
              "\n",
              "          const docLinkHtml = 'Like what you see? Visit the ' +\n",
              "            '<a target=\"_blank\" href=https://colab.research.google.com/notebooks/data_table.ipynb>data table notebook</a>'\n",
              "            + ' to learn more about interactive tables.';\n",
              "          element.innerHTML = '';\n",
              "          dataTable['output_type'] = 'display_data';\n",
              "          await google.colab.output.renderOutput(dataTable, element);\n",
              "          const docLink = document.createElement('div');\n",
              "          docLink.innerHTML = docLinkHtml;\n",
              "          element.appendChild(docLink);\n",
              "        }\n",
              "      </script>\n",
              "    </div>\n",
              "  </div>\n",
              "  "
            ]
          },
          "metadata": {},
          "execution_count": 9
        }
      ],
      "source": [
        "emotions_dataset = emotions_dataset.reset_index(drop=True)\n",
        "emotions_dataset.head()"
      ]
    },
    {
      "cell_type": "code",
      "execution_count": 10,
      "metadata": {
        "id": "Hw7rbGzcNbyQ"
      },
      "outputs": [],
      "source": [
        "# 2. Remove Punctuation, Numbers, Special Charaters\n",
        "emotions_dataset['clean_tweets'] = emotions_dataset['clean_tweets'].str.replace(\"[^a-zA-Z#]\",\" \")"
      ]
    },
    {
      "cell_type": "code",
      "execution_count": 11,
      "metadata": {
        "id": "7dbOTG3fNbyR"
      },
      "outputs": [],
      "source": [
        "# 3. Remove Short Words like: hmm, oh etc\n",
        "emotions_dataset['clean_tweets'] = emotions_dataset['clean_tweets'].apply(lambda x: ' '.join([w for w in x.split() if len(w)>3]))"
      ]
    },
    {
      "cell_type": "code",
      "execution_count": 12,
      "metadata": {
        "id": "SdVu_rUcNbyR"
      },
      "outputs": [],
      "source": [
        "final_df = emotions_dataset.drop(['Tweet'],axis=1)"
      ]
    },
    {
      "cell_type": "code",
      "execution_count": 13,
      "metadata": {
        "colab": {
          "base_uri": "https://localhost:8080/",
          "height": 206
        },
        "id": "5TV_W3KONbyR",
        "outputId": "c2e12e27-680c-4b9c-f660-fb6ed78e45b4"
      },
      "outputs": [
        {
          "output_type": "execute_result",
          "data": {
            "text/plain": [
              "  Emotions                                       clean_tweets\n",
              "0    anger                       shut hashtags cool #offended\n",
              "1    anger  makes fucking irate jesus nobody calling like ...\n",
              "2    anger  very telling that racist bigots always resort ...\n",
              "3    anger   come after tweets then should #bitter #soreloser\n",
              "4    anger                 little things like that make angry"
            ],
            "text/html": [
              "\n",
              "  <div id=\"df-13e46945-110a-407e-bb19-97addb7ea145\">\n",
              "    <div class=\"colab-df-container\">\n",
              "      <div>\n",
              "<style scoped>\n",
              "    .dataframe tbody tr th:only-of-type {\n",
              "        vertical-align: middle;\n",
              "    }\n",
              "\n",
              "    .dataframe tbody tr th {\n",
              "        vertical-align: top;\n",
              "    }\n",
              "\n",
              "    .dataframe thead th {\n",
              "        text-align: right;\n",
              "    }\n",
              "</style>\n",
              "<table border=\"1\" class=\"dataframe\">\n",
              "  <thead>\n",
              "    <tr style=\"text-align: right;\">\n",
              "      <th></th>\n",
              "      <th>Emotions</th>\n",
              "      <th>clean_tweets</th>\n",
              "    </tr>\n",
              "  </thead>\n",
              "  <tbody>\n",
              "    <tr>\n",
              "      <th>0</th>\n",
              "      <td>anger</td>\n",
              "      <td>shut hashtags cool #offended</td>\n",
              "    </tr>\n",
              "    <tr>\n",
              "      <th>1</th>\n",
              "      <td>anger</td>\n",
              "      <td>makes fucking irate jesus nobody calling like ...</td>\n",
              "    </tr>\n",
              "    <tr>\n",
              "      <th>2</th>\n",
              "      <td>anger</td>\n",
              "      <td>very telling that racist bigots always resort ...</td>\n",
              "    </tr>\n",
              "    <tr>\n",
              "      <th>3</th>\n",
              "      <td>anger</td>\n",
              "      <td>come after tweets then should #bitter #soreloser</td>\n",
              "    </tr>\n",
              "    <tr>\n",
              "      <th>4</th>\n",
              "      <td>anger</td>\n",
              "      <td>little things like that make angry</td>\n",
              "    </tr>\n",
              "  </tbody>\n",
              "</table>\n",
              "</div>\n",
              "      <button class=\"colab-df-convert\" onclick=\"convertToInteractive('df-13e46945-110a-407e-bb19-97addb7ea145')\"\n",
              "              title=\"Convert this dataframe to an interactive table.\"\n",
              "              style=\"display:none;\">\n",
              "        \n",
              "  <svg xmlns=\"http://www.w3.org/2000/svg\" height=\"24px\"viewBox=\"0 0 24 24\"\n",
              "       width=\"24px\">\n",
              "    <path d=\"M0 0h24v24H0V0z\" fill=\"none\"/>\n",
              "    <path d=\"M18.56 5.44l.94 2.06.94-2.06 2.06-.94-2.06-.94-.94-2.06-.94 2.06-2.06.94zm-11 1L8.5 8.5l.94-2.06 2.06-.94-2.06-.94L8.5 2.5l-.94 2.06-2.06.94zm10 10l.94 2.06.94-2.06 2.06-.94-2.06-.94-.94-2.06-.94 2.06-2.06.94z\"/><path d=\"M17.41 7.96l-1.37-1.37c-.4-.4-.92-.59-1.43-.59-.52 0-1.04.2-1.43.59L10.3 9.45l-7.72 7.72c-.78.78-.78 2.05 0 2.83L4 21.41c.39.39.9.59 1.41.59.51 0 1.02-.2 1.41-.59l7.78-7.78 2.81-2.81c.8-.78.8-2.07 0-2.86zM5.41 20L4 18.59l7.72-7.72 1.47 1.35L5.41 20z\"/>\n",
              "  </svg>\n",
              "      </button>\n",
              "      \n",
              "  <style>\n",
              "    .colab-df-container {\n",
              "      display:flex;\n",
              "      flex-wrap:wrap;\n",
              "      gap: 12px;\n",
              "    }\n",
              "\n",
              "    .colab-df-convert {\n",
              "      background-color: #E8F0FE;\n",
              "      border: none;\n",
              "      border-radius: 50%;\n",
              "      cursor: pointer;\n",
              "      display: none;\n",
              "      fill: #1967D2;\n",
              "      height: 32px;\n",
              "      padding: 0 0 0 0;\n",
              "      width: 32px;\n",
              "    }\n",
              "\n",
              "    .colab-df-convert:hover {\n",
              "      background-color: #E2EBFA;\n",
              "      box-shadow: 0px 1px 2px rgba(60, 64, 67, 0.3), 0px 1px 3px 1px rgba(60, 64, 67, 0.15);\n",
              "      fill: #174EA6;\n",
              "    }\n",
              "\n",
              "    [theme=dark] .colab-df-convert {\n",
              "      background-color: #3B4455;\n",
              "      fill: #D2E3FC;\n",
              "    }\n",
              "\n",
              "    [theme=dark] .colab-df-convert:hover {\n",
              "      background-color: #434B5C;\n",
              "      box-shadow: 0px 1px 3px 1px rgba(0, 0, 0, 0.15);\n",
              "      filter: drop-shadow(0px 1px 2px rgba(0, 0, 0, 0.3));\n",
              "      fill: #FFFFFF;\n",
              "    }\n",
              "  </style>\n",
              "\n",
              "      <script>\n",
              "        const buttonEl =\n",
              "          document.querySelector('#df-13e46945-110a-407e-bb19-97addb7ea145 button.colab-df-convert');\n",
              "        buttonEl.style.display =\n",
              "          google.colab.kernel.accessAllowed ? 'block' : 'none';\n",
              "\n",
              "        async function convertToInteractive(key) {\n",
              "          const element = document.querySelector('#df-13e46945-110a-407e-bb19-97addb7ea145');\n",
              "          const dataTable =\n",
              "            await google.colab.kernel.invokeFunction('convertToInteractive',\n",
              "                                                     [key], {});\n",
              "          if (!dataTable) return;\n",
              "\n",
              "          const docLinkHtml = 'Like what you see? Visit the ' +\n",
              "            '<a target=\"_blank\" href=https://colab.research.google.com/notebooks/data_table.ipynb>data table notebook</a>'\n",
              "            + ' to learn more about interactive tables.';\n",
              "          element.innerHTML = '';\n",
              "          dataTable['output_type'] = 'display_data';\n",
              "          await google.colab.output.renderOutput(dataTable, element);\n",
              "          const docLink = document.createElement('div');\n",
              "          docLink.innerHTML = docLinkHtml;\n",
              "          element.appendChild(docLink);\n",
              "        }\n",
              "      </script>\n",
              "    </div>\n",
              "  </div>\n",
              "  "
            ]
          },
          "metadata": {},
          "execution_count": 13
        }
      ],
      "source": [
        "final_df.head()"
      ]
    },
    {
      "cell_type": "code",
      "execution_count": 14,
      "metadata": {
        "colab": {
          "base_uri": "https://localhost:8080/"
        },
        "id": "Ajb-ylNqNbyS",
        "outputId": "cc24159f-db06-4763-8770-b82a7f2ad6cd"
      },
      "outputs": [
        {
          "output_type": "execute_result",
          "data": {
            "text/plain": [
              "(39092, 2)"
            ]
          },
          "metadata": {},
          "execution_count": 14
        }
      ],
      "source": [
        "final_df.shape"
      ]
    },
    {
      "cell_type": "markdown",
      "metadata": {
        "id": "m_lLbZTHNbyS"
      },
      "source": [
        "# Data Preprocessing"
      ]
    },
    {
      "cell_type": "markdown",
      "metadata": {
        "id": "Q9LUrb92NbyS"
      },
      "source": [
        " #### Tokenization"
      ]
    },
    {
      "cell_type": "code",
      "execution_count": 15,
      "metadata": {
        "colab": {
          "base_uri": "https://localhost:8080/"
        },
        "id": "MkxJd19nNbyS",
        "outputId": "4e621d9e-4e02-4b68-a101-284a6badbdc0"
      },
      "outputs": [
        {
          "output_type": "execute_result",
          "data": {
            "text/plain": [
              "0                    [shut, hashtags, cool, #offended]\n",
              "1    [makes, fucking, irate, jesus, nobody, calling...\n",
              "2    [very, telling, that, racist, bigots, always, ...\n",
              "3    [come, after, tweets, then, should, #bitter, #...\n",
              "4            [little, things, like, that, make, angry]\n",
              "Name: clean_tweets, dtype: object"
            ]
          },
          "metadata": {},
          "execution_count": 15
        }
      ],
      "source": [
        "tokenized_question1 = final_df['clean_tweets'].apply(lambda x: x.split()) #tokenizing\n",
        "tokenized_question1.head()"
      ]
    },
    {
      "cell_type": "markdown",
      "metadata": {
        "id": "EhwnCL8kNbyT"
      },
      "source": [
        "### Lemmatization"
      ]
    },
    {
      "cell_type": "code",
      "execution_count": 18,
      "metadata": {
        "colab": {
          "base_uri": "https://localhost:8080/"
        },
        "id": "mjYkLnLQNbyT",
        "outputId": "0bfe242f-d340-49a9-d1b8-96deb4e3d54c"
      },
      "outputs": [
        {
          "output_type": "stream",
          "name": "stderr",
          "text": [
            "[nltk_data] Downloading package wordnet to /root/nltk_data...\n",
            "[nltk_data] Downloading package omw-1.4 to /root/nltk_data...\n"
          ]
        }
      ],
      "source": [
        "from nltk.stem import WordNetLemmatizer\n",
        "import nltk\n",
        "nltk.download('wordnet')\n",
        "nltk.download('omw-1.4')\n",
        "lemmaObj = WordNetLemmatizer()"
      ]
    },
    {
      "cell_type": "code",
      "execution_count": 19,
      "metadata": {
        "colab": {
          "base_uri": "https://localhost:8080/"
        },
        "id": "KRhqSoEXNbyT",
        "outputId": "f8bc0e1e-3f16-4037-9f7a-be565d67c882"
      },
      "outputs": [
        {
          "output_type": "stream",
          "name": "stdout",
          "text": [
            "CPU times: user 2.5 s, sys: 15.9 ms, total: 2.51 s\n",
            "Wall time: 2.51 s\n"
          ]
        },
        {
          "output_type": "execute_result",
          "data": {
            "text/plain": [
              "0                    [shut, hashtags, cool, #offended]\n",
              "1    [make, fucking, irate, jesus, nobody, calling,...\n",
              "2    [very, telling, that, racist, bigot, always, r...\n",
              "3    [come, after, tweet, then, should, #bitter, #s...\n",
              "4             [little, thing, like, that, make, angry]\n",
              "Name: clean_tweets, dtype: object"
            ]
          },
          "metadata": {},
          "execution_count": 19
        }
      ],
      "source": [
        "%%time\n",
        "lemmatize_tweets = tokenized_question1.apply(lambda x: [lemmaObj.lemmatize(word) for word in x])\n",
        "lemmatize_tweets.head()"
      ]
    },
    {
      "cell_type": "code",
      "execution_count": 20,
      "metadata": {
        "id": "Hj5500w5NbyT"
      },
      "outputs": [],
      "source": [
        "final_df['lemmatize_tweets'] = lemmatize_tweets\n",
        "final_df['lemmatize_tweets'] = final_df['lemmatize_tweets'].apply(lambda x: ' '.join(x))"
      ]
    },
    {
      "cell_type": "code",
      "execution_count": 21,
      "metadata": {
        "colab": {
          "base_uri": "https://localhost:8080/",
          "height": 250
        },
        "id": "JDKZda2pNbyT",
        "outputId": "c5f9857e-5a3d-4421-981e-e9550284990a"
      },
      "outputs": [
        {
          "output_type": "execute_result",
          "data": {
            "text/plain": [
              "  Emotions                                       clean_tweets  \\\n",
              "0    anger                       shut hashtags cool #offended   \n",
              "1    anger  makes fucking irate jesus nobody calling like ...   \n",
              "2    anger  very telling that racist bigots always resort ...   \n",
              "3    anger   come after tweets then should #bitter #soreloser   \n",
              "4    anger                 little things like that make angry   \n",
              "\n",
              "                                    lemmatize_tweets  \n",
              "0                       shut hashtags cool #offended  \n",
              "1  make fucking irate jesus nobody calling like h...  \n",
              "2  very telling that racist bigot always resort i...  \n",
              "3    come after tweet then should #bitter #soreloser  \n",
              "4                  little thing like that make angry  "
            ],
            "text/html": [
              "\n",
              "  <div id=\"df-2b246cb2-5da4-4284-bc7d-b8d254121007\">\n",
              "    <div class=\"colab-df-container\">\n",
              "      <div>\n",
              "<style scoped>\n",
              "    .dataframe tbody tr th:only-of-type {\n",
              "        vertical-align: middle;\n",
              "    }\n",
              "\n",
              "    .dataframe tbody tr th {\n",
              "        vertical-align: top;\n",
              "    }\n",
              "\n",
              "    .dataframe thead th {\n",
              "        text-align: right;\n",
              "    }\n",
              "</style>\n",
              "<table border=\"1\" class=\"dataframe\">\n",
              "  <thead>\n",
              "    <tr style=\"text-align: right;\">\n",
              "      <th></th>\n",
              "      <th>Emotions</th>\n",
              "      <th>clean_tweets</th>\n",
              "      <th>lemmatize_tweets</th>\n",
              "    </tr>\n",
              "  </thead>\n",
              "  <tbody>\n",
              "    <tr>\n",
              "      <th>0</th>\n",
              "      <td>anger</td>\n",
              "      <td>shut hashtags cool #offended</td>\n",
              "      <td>shut hashtags cool #offended</td>\n",
              "    </tr>\n",
              "    <tr>\n",
              "      <th>1</th>\n",
              "      <td>anger</td>\n",
              "      <td>makes fucking irate jesus nobody calling like ...</td>\n",
              "      <td>make fucking irate jesus nobody calling like h...</td>\n",
              "    </tr>\n",
              "    <tr>\n",
              "      <th>2</th>\n",
              "      <td>anger</td>\n",
              "      <td>very telling that racist bigots always resort ...</td>\n",
              "      <td>very telling that racist bigot always resort i...</td>\n",
              "    </tr>\n",
              "    <tr>\n",
              "      <th>3</th>\n",
              "      <td>anger</td>\n",
              "      <td>come after tweets then should #bitter #soreloser</td>\n",
              "      <td>come after tweet then should #bitter #soreloser</td>\n",
              "    </tr>\n",
              "    <tr>\n",
              "      <th>4</th>\n",
              "      <td>anger</td>\n",
              "      <td>little things like that make angry</td>\n",
              "      <td>little thing like that make angry</td>\n",
              "    </tr>\n",
              "  </tbody>\n",
              "</table>\n",
              "</div>\n",
              "      <button class=\"colab-df-convert\" onclick=\"convertToInteractive('df-2b246cb2-5da4-4284-bc7d-b8d254121007')\"\n",
              "              title=\"Convert this dataframe to an interactive table.\"\n",
              "              style=\"display:none;\">\n",
              "        \n",
              "  <svg xmlns=\"http://www.w3.org/2000/svg\" height=\"24px\"viewBox=\"0 0 24 24\"\n",
              "       width=\"24px\">\n",
              "    <path d=\"M0 0h24v24H0V0z\" fill=\"none\"/>\n",
              "    <path d=\"M18.56 5.44l.94 2.06.94-2.06 2.06-.94-2.06-.94-.94-2.06-.94 2.06-2.06.94zm-11 1L8.5 8.5l.94-2.06 2.06-.94-2.06-.94L8.5 2.5l-.94 2.06-2.06.94zm10 10l.94 2.06.94-2.06 2.06-.94-2.06-.94-.94-2.06-.94 2.06-2.06.94z\"/><path d=\"M17.41 7.96l-1.37-1.37c-.4-.4-.92-.59-1.43-.59-.52 0-1.04.2-1.43.59L10.3 9.45l-7.72 7.72c-.78.78-.78 2.05 0 2.83L4 21.41c.39.39.9.59 1.41.59.51 0 1.02-.2 1.41-.59l7.78-7.78 2.81-2.81c.8-.78.8-2.07 0-2.86zM5.41 20L4 18.59l7.72-7.72 1.47 1.35L5.41 20z\"/>\n",
              "  </svg>\n",
              "      </button>\n",
              "      \n",
              "  <style>\n",
              "    .colab-df-container {\n",
              "      display:flex;\n",
              "      flex-wrap:wrap;\n",
              "      gap: 12px;\n",
              "    }\n",
              "\n",
              "    .colab-df-convert {\n",
              "      background-color: #E8F0FE;\n",
              "      border: none;\n",
              "      border-radius: 50%;\n",
              "      cursor: pointer;\n",
              "      display: none;\n",
              "      fill: #1967D2;\n",
              "      height: 32px;\n",
              "      padding: 0 0 0 0;\n",
              "      width: 32px;\n",
              "    }\n",
              "\n",
              "    .colab-df-convert:hover {\n",
              "      background-color: #E2EBFA;\n",
              "      box-shadow: 0px 1px 2px rgba(60, 64, 67, 0.3), 0px 1px 3px 1px rgba(60, 64, 67, 0.15);\n",
              "      fill: #174EA6;\n",
              "    }\n",
              "\n",
              "    [theme=dark] .colab-df-convert {\n",
              "      background-color: #3B4455;\n",
              "      fill: #D2E3FC;\n",
              "    }\n",
              "\n",
              "    [theme=dark] .colab-df-convert:hover {\n",
              "      background-color: #434B5C;\n",
              "      box-shadow: 0px 1px 3px 1px rgba(0, 0, 0, 0.15);\n",
              "      filter: drop-shadow(0px 1px 2px rgba(0, 0, 0, 0.3));\n",
              "      fill: #FFFFFF;\n",
              "    }\n",
              "  </style>\n",
              "\n",
              "      <script>\n",
              "        const buttonEl =\n",
              "          document.querySelector('#df-2b246cb2-5da4-4284-bc7d-b8d254121007 button.colab-df-convert');\n",
              "        buttonEl.style.display =\n",
              "          google.colab.kernel.accessAllowed ? 'block' : 'none';\n",
              "\n",
              "        async function convertToInteractive(key) {\n",
              "          const element = document.querySelector('#df-2b246cb2-5da4-4284-bc7d-b8d254121007');\n",
              "          const dataTable =\n",
              "            await google.colab.kernel.invokeFunction('convertToInteractive',\n",
              "                                                     [key], {});\n",
              "          if (!dataTable) return;\n",
              "\n",
              "          const docLinkHtml = 'Like what you see? Visit the ' +\n",
              "            '<a target=\"_blank\" href=https://colab.research.google.com/notebooks/data_table.ipynb>data table notebook</a>'\n",
              "            + ' to learn more about interactive tables.';\n",
              "          element.innerHTML = '';\n",
              "          dataTable['output_type'] = 'display_data';\n",
              "          await google.colab.output.renderOutput(dataTable, element);\n",
              "          const docLink = document.createElement('div');\n",
              "          docLink.innerHTML = docLinkHtml;\n",
              "          element.appendChild(docLink);\n",
              "        }\n",
              "      </script>\n",
              "    </div>\n",
              "  </div>\n",
              "  "
            ]
          },
          "metadata": {},
          "execution_count": 21
        }
      ],
      "source": [
        "final_df.head()"
      ]
    },
    {
      "cell_type": "markdown",
      "metadata": {
        "id": "pmoDwRMlNbyU"
      },
      "source": [
        "# Model Building"
      ]
    },
    {
      "cell_type": "code",
      "execution_count": 22,
      "metadata": {
        "id": "ysmhm7IVNbyU"
      },
      "outputs": [],
      "source": [
        "import tensorflow as tf\n",
        "from tensorflow.keras.layers import Embedding\n",
        "from tensorflow.keras.preprocessing.sequence import pad_sequences\n",
        "from tensorflow.keras.models import Sequential\n",
        "from tensorflow.keras.preprocessing.text import one_hot\n",
        "from tensorflow.keras.layers import LSTM\n",
        "from tensorflow.keras.layers import Dense\n",
        "from tensorflow.keras.layers import Dropout\n",
        "from tensorflow.keras.layers import Bidirectional"
      ]
    },
    {
      "cell_type": "code",
      "execution_count": 23,
      "metadata": {
        "colab": {
          "base_uri": "https://localhost:8080/",
          "height": 36
        },
        "id": "A4q7PlshNbyU",
        "outputId": "bdb4a7e5-8dd5-474d-c7a0-79f25079ad6a"
      },
      "outputs": [
        {
          "output_type": "execute_result",
          "data": {
            "text/plain": [
              "'2.9.2'"
            ],
            "application/vnd.google.colaboratory.intrinsic+json": {
              "type": "string"
            }
          },
          "metadata": {},
          "execution_count": 23
        }
      ],
      "source": [
        "tf.__version__"
      ]
    },
    {
      "cell_type": "markdown",
      "source": [
        "### One Hot Representation"
      ],
      "metadata": {
        "id": "Y6_k92fngOH5"
      }
    },
    {
      "cell_type": "code",
      "execution_count": 25,
      "metadata": {
        "colab": {
          "base_uri": "https://localhost:8080/"
        },
        "id": "F7i50oMUNbyU",
        "outputId": "f907c3fe-1c2d-49a9-98bf-de9698a6611f"
      },
      "outputs": [
        {
          "output_type": "execute_result",
          "data": {
            "text/plain": [
              "[[4418, 3400, 2116, 2272],\n",
              " [2785, 3764, 1757, 928, 240, 4813, 1715, 3744, 4442, 4143, 2228, 430, 1717],\n",
              " [3251,\n",
              "  3819,\n",
              "  567,\n",
              "  4542,\n",
              "  1537,\n",
              "  113,\n",
              "  587,\n",
              "  463,\n",
              "  1715,\n",
              "  567,\n",
              "  3190,\n",
              "  1190,\n",
              "  2568,\n",
              "  4542,\n",
              "  1537],\n",
              " [1422, 1991, 2253, 1844, 2903, 355, 11],\n",
              " [1566, 3429, 1715, 567, 2785, 1870]]"
            ]
          },
          "metadata": {},
          "execution_count": 25
        }
      ],
      "source": [
        "### Vocabulary size\n",
        "vocab_size=5000\n",
        "\n",
        "### onehot representation\n",
        "onehot_repr=[one_hot(words,vocab_size)for words in final_df['lemmatize_tweets']] \n",
        "onehot_repr[:5]"
      ]
    },
    {
      "cell_type": "code",
      "execution_count": 26,
      "metadata": {
        "colab": {
          "base_uri": "https://localhost:8080/"
        },
        "id": "3MRbkSqXNbyV",
        "outputId": "29911494-e264-489f-c279-9cf23d4ad6d9"
      },
      "outputs": [
        {
          "output_type": "stream",
          "name": "stdout",
          "text": [
            "[[   0    0    0 ... 3400 2116 2272]\n",
            " [   0    0    0 ... 2228  430 1717]\n",
            " [   0    0    0 ... 2568 4542 1537]\n",
            " ...\n",
            " [   0    0    0 ...    0  962 4760]\n",
            " [   0    0    0 ... 4867 3434  246]\n",
            " [   0    0    0 ... 2943 3693 2633]]\n"
          ]
        }
      ],
      "source": [
        "# padding the data for equal shape\n",
        "sent_length=50\n",
        "embedded_docs=pad_sequences(onehot_repr,padding='pre',maxlen=sent_length)\n",
        "print(embedded_docs)"
      ]
    },
    {
      "cell_type": "code",
      "execution_count": 27,
      "metadata": {
        "colab": {
          "base_uri": "https://localhost:8080/"
        },
        "id": "l6UWXbR4NbyV",
        "outputId": "1a121f8a-8d81-4e8a-fec4-921a68f8a44f"
      },
      "outputs": [
        {
          "output_type": "execute_result",
          "data": {
            "text/plain": [
              "((39092, 50), (39092,))"
            ]
          },
          "metadata": {},
          "execution_count": 27
        }
      ],
      "source": [
        "embedded_docs.shape,final_df['Emotions'].shape"
      ]
    },
    {
      "cell_type": "code",
      "execution_count": 28,
      "metadata": {
        "colab": {
          "base_uri": "https://localhost:8080/"
        },
        "id": "vaxMhccENbyV",
        "outputId": "30e48e4b-b636-457f-e462-e31bfeccf104"
      },
      "outputs": [
        {
          "output_type": "execute_result",
          "data": {
            "text/plain": [
              "((39092, 50), (39092,))"
            ]
          },
          "metadata": {},
          "execution_count": 28
        }
      ],
      "source": [
        "train = embedded_docs\n",
        "target = final_df['Emotions']\n",
        "train.shape, target.shape"
      ]
    },
    {
      "cell_type": "markdown",
      "source": [
        "Convert target labels to binary labels"
      ],
      "metadata": {
        "id": "jncl9FVlgvAf"
      }
    },
    {
      "cell_type": "code",
      "execution_count": 29,
      "metadata": {
        "id": "XDJ7Cu54NbyV"
      },
      "outputs": [],
      "source": [
        "from tensorflow.keras.utils import to_categorical"
      ]
    },
    {
      "cell_type": "code",
      "execution_count": 30,
      "metadata": {
        "id": "qAWkOr7oNbyV"
      },
      "outputs": [],
      "source": [
        "labels = final_df['Emotions'].replace({'anger':0,'fear':1,'joy':2,'sadness':3,'neutral':4,'surprise':5,'shame':6,'disgust':7})"
      ]
    },
    {
      "cell_type": "code",
      "execution_count": 31,
      "metadata": {
        "colab": {
          "base_uri": "https://localhost:8080/"
        },
        "id": "UeesMDJ7NbyW",
        "outputId": "ab544db3-4e59-4f68-95a8-3dbf5826f974"
      },
      "outputs": [
        {
          "output_type": "execute_result",
          "data": {
            "text/plain": [
              "array([[1., 0., 0., ..., 0., 0., 0.],\n",
              "       [1., 0., 0., ..., 0., 0., 0.],\n",
              "       [1., 0., 0., ..., 0., 0., 0.],\n",
              "       ...,\n",
              "       [1., 0., 0., ..., 0., 0., 0.],\n",
              "       [0., 1., 0., ..., 0., 0., 0.],\n",
              "       [0., 0., 0., ..., 0., 0., 0.]], dtype=float32)"
            ]
          },
          "metadata": {},
          "execution_count": 31
        }
      ],
      "source": [
        "binary_labels = to_categorical(labels,num_classes=8)\n",
        "binary_labels"
      ]
    },
    {
      "cell_type": "code",
      "execution_count": 32,
      "metadata": {
        "colab": {
          "base_uri": "https://localhost:8080/"
        },
        "id": "y5VqDQlvNbyW",
        "outputId": "3d13ce59-6e15-4de9-ed2c-cec7926ebc8f"
      },
      "outputs": [
        {
          "output_type": "execute_result",
          "data": {
            "text/plain": [
              "(39092, 8)"
            ]
          },
          "metadata": {},
          "execution_count": 32
        }
      ],
      "source": [
        "binary_labels.shape"
      ]
    },
    {
      "cell_type": "code",
      "execution_count": 33,
      "metadata": {
        "id": "7BwXQSUXNbyW"
      },
      "outputs": [],
      "source": [
        "from sklearn.model_selection import train_test_split\n",
        "X_train, X_test, y_train, y_test = train_test_split(train, binary_labels, test_size=0.30, random_state=0)"
      ]
    },
    {
      "cell_type": "code",
      "execution_count": 34,
      "metadata": {
        "id": "w9C1S6AMNbyW"
      },
      "outputs": [],
      "source": [
        "emb_dim = 2"
      ]
    },
    {
      "cell_type": "markdown",
      "metadata": {
        "id": "71VMlE4PNbyX"
      },
      "source": [
        "### Bidirectional LSTM Model"
      ]
    },
    {
      "cell_type": "code",
      "execution_count": 48,
      "metadata": {
        "colab": {
          "base_uri": "https://localhost:8080/"
        },
        "id": "YWfbCCllNbyX",
        "outputId": "16c5f01d-bec1-4699-84ca-b7dca4901f3a"
      },
      "outputs": [
        {
          "output_type": "stream",
          "name": "stdout",
          "text": [
            "Model: \"sequential_5\"\n",
            "_________________________________________________________________\n",
            " Layer (type)                Output Shape              Param #   \n",
            "=================================================================\n",
            " embedding_5 (Embedding)     (None, 50, 4)             20000     \n",
            "                                                                 \n",
            " bidirectional_6 (Bidirectio  (None, 256)              136192    \n",
            " nal)                                                            \n",
            "                                                                 \n",
            " dense_4 (Dense)             (None, 8)                 2056      \n",
            "                                                                 \n",
            "=================================================================\n",
            "Total params: 158,248\n",
            "Trainable params: 158,248\n",
            "Non-trainable params: 0\n",
            "_________________________________________________________________\n"
          ]
        }
      ],
      "source": [
        "model = Sequential()\n",
        "model.add(Embedding(vocab_size, 4, input_length=embedded_docs.shape[1]))\n",
        "model.add(Bidirectional(LSTM(128, dropout=0.3)))\n",
        "model.add(Dense(8,activation='softmax'))\n",
        "\n",
        "model.compile(loss='categorical_crossentropy',optimizer='rmsprop',metrics=['accuracy'])\n",
        "model.summary()"
      ]
    },
    {
      "cell_type": "code",
      "execution_count": 50,
      "metadata": {
        "colab": {
          "base_uri": "https://localhost:8080/"
        },
        "id": "lpDmE-zkNbyX",
        "outputId": "d74af60d-7b1e-4e8f-c593-850d6714c639"
      },
      "outputs": [
        {
          "output_type": "stream",
          "name": "stdout",
          "text": [
            "Epoch 1/20\n",
            "428/428 [==============================] - 7s 16ms/step - loss: 1.4650 - accuracy: 0.4378 - val_loss: 1.4482 - val_accuracy: 0.4496\n",
            "Epoch 2/20\n",
            "428/428 [==============================] - 7s 16ms/step - loss: 1.4199 - accuracy: 0.4593 - val_loss: 1.3963 - val_accuracy: 0.4770\n",
            "Epoch 3/20\n",
            "428/428 [==============================] - 7s 16ms/step - loss: 1.3749 - accuracy: 0.4889 - val_loss: 1.3665 - val_accuracy: 0.4986\n",
            "Epoch 4/20\n",
            "428/428 [==============================] - 7s 16ms/step - loss: 1.3274 - accuracy: 0.5163 - val_loss: 1.3206 - val_accuracy: 0.5245\n",
            "Epoch 5/20\n",
            "428/428 [==============================] - 7s 16ms/step - loss: 1.2819 - accuracy: 0.5384 - val_loss: 1.2854 - val_accuracy: 0.5440\n",
            "Epoch 6/20\n",
            "428/428 [==============================] - 7s 16ms/step - loss: 1.2492 - accuracy: 0.5562 - val_loss: 1.2792 - val_accuracy: 0.5391\n",
            "Epoch 7/20\n",
            "428/428 [==============================] - 7s 16ms/step - loss: 1.2230 - accuracy: 0.5681 - val_loss: 1.2491 - val_accuracy: 0.5564\n",
            "Epoch 8/20\n",
            "428/428 [==============================] - 7s 16ms/step - loss: 1.2008 - accuracy: 0.5765 - val_loss: 1.2489 - val_accuracy: 0.5604\n",
            "Epoch 9/20\n",
            "428/428 [==============================] - 7s 16ms/step - loss: 1.1885 - accuracy: 0.5797 - val_loss: 1.2439 - val_accuracy: 0.5570\n",
            "Epoch 10/20\n",
            "428/428 [==============================] - 7s 16ms/step - loss: 1.1780 - accuracy: 0.5845 - val_loss: 1.2361 - val_accuracy: 0.5660\n",
            "Epoch 11/20\n",
            "428/428 [==============================] - 7s 16ms/step - loss: 1.1616 - accuracy: 0.5914 - val_loss: 1.2248 - val_accuracy: 0.5692\n",
            "Epoch 12/20\n",
            "428/428 [==============================] - 7s 16ms/step - loss: 1.1556 - accuracy: 0.5944 - val_loss: 1.2195 - val_accuracy: 0.5721\n",
            "Epoch 13/20\n",
            "428/428 [==============================] - 7s 16ms/step - loss: 1.1430 - accuracy: 0.5980 - val_loss: 1.2166 - val_accuracy: 0.5708\n",
            "Epoch 14/20\n",
            "428/428 [==============================] - 7s 16ms/step - loss: 1.1358 - accuracy: 0.6023 - val_loss: 1.2313 - val_accuracy: 0.5660\n",
            "Epoch 15/20\n",
            "428/428 [==============================] - 8s 18ms/step - loss: 1.1334 - accuracy: 0.6019 - val_loss: 1.2150 - val_accuracy: 0.5735\n",
            "Epoch 16/20\n",
            "428/428 [==============================] - 7s 16ms/step - loss: 1.1249 - accuracy: 0.6084 - val_loss: 1.2172 - val_accuracy: 0.5710\n",
            "Epoch 17/20\n",
            "428/428 [==============================] - 7s 16ms/step - loss: 1.1217 - accuracy: 0.6089 - val_loss: 1.2129 - val_accuracy: 0.5774\n",
            "Epoch 18/20\n",
            "428/428 [==============================] - 7s 16ms/step - loss: 1.1182 - accuracy: 0.6074 - val_loss: 1.2145 - val_accuracy: 0.5726\n",
            "Epoch 19/20\n",
            "428/428 [==============================] - 7s 16ms/step - loss: 1.1114 - accuracy: 0.6130 - val_loss: 1.2228 - val_accuracy: 0.5681\n",
            "Epoch 20/20\n",
            "428/428 [==============================] - 7s 16ms/step - loss: 1.1083 - accuracy: 0.6120 - val_loss: 1.2125 - val_accuracy: 0.5753\n"
          ]
        }
      ],
      "source": [
        "history = model.fit(X_train,y_train,validation_data=(X_test,y_test),epochs=20,batch_size=64)"
      ]
    },
    {
      "cell_type": "code",
      "execution_count": 51,
      "metadata": {
        "colab": {
          "base_uri": "https://localhost:8080/"
        },
        "id": "zJbbjY_hNbyY",
        "outputId": "4a4e1d1f-402e-4ed7-a8ba-31a1ca7af7ae"
      },
      "outputs": [
        {
          "output_type": "stream",
          "name": "stdout",
          "text": [
            "367/367 [==============================] - 2s 5ms/step - loss: 1.2125 - accuracy: 0.5753\n"
          ]
        },
        {
          "output_type": "execute_result",
          "data": {
            "text/plain": [
              "[1.2125284671783447, 0.5752899050712585]"
            ]
          },
          "metadata": {},
          "execution_count": 51
        }
      ],
      "source": [
        "model.evaluate(X_test,y_test)"
      ]
    },
    {
      "cell_type": "code",
      "execution_count": 52,
      "metadata": {
        "colab": {
          "base_uri": "https://localhost:8080/",
          "height": 295
        },
        "id": "8sE-AagYNbyY",
        "outputId": "909adc12-c241-4083-cbc4-b67625c93879"
      },
      "outputs": [
        {
          "output_type": "display_data",
          "data": {
            "text/plain": [
              "<Figure size 432x288 with 1 Axes>"
            ],
            "image/png": "[encoded data removed]"
          },
          "metadata": {
            "needs_background": "light"
          }
        }
      ],
      "source": [
        "plt.plot(history.history['loss'])\n",
        "plt.plot(history.history['val_loss'])\n",
        "plt.title('Model Train vs Validation Accuracy')\n",
        "plt.ylabel('Acc')\n",
        "plt.xlabel('epoch')\n",
        "plt.legend(['train','validation'])\n",
        "plt.show()"
      ]
    },
    {
      "cell_type": "markdown",
      "source": [
        "### Save Model"
      ],
      "metadata": {
        "id": "k3_zfq0uhBNZ"
      }
    },
    {
      "cell_type": "code",
      "source": [
        "model.save('/content/drive/MyDrive/Colab Notebooks/Emotion Detection/model.h5')"
      ],
      "metadata": {
        "id": "fUbDdD1eV2zy"
      },
      "execution_count": 53,
      "outputs": []
    },
    {
      "cell_type": "markdown",
      "source": [
        "### Model Evalution"
      ],
      "metadata": {
        "id": "x6od-ulehNye"
      }
    },
    {
      "cell_type": "code",
      "execution_count": 56,
      "metadata": {
        "colab": {
          "base_uri": "https://localhost:8080/"
        },
        "id": "eF9x6ONiNbyY",
        "outputId": "00143983-8748-4f1f-fa78-f2c8b84dedd2"
      },
      "outputs": [
        {
          "output_type": "stream",
          "name": "stdout",
          "text": [
            "367/367 [==============================] - 2s 4ms/step\n"
          ]
        },
        {
          "output_type": "execute_result",
          "data": {
            "text/plain": [
              "array([[2.9201731e-03, 5.1853992e-03, 9.1199088e-01, ..., 2.2363251e-02,\n",
              "        8.1460508e-05, 6.4604031e-04],\n",
              "       [1.8683214e-02, 2.2955943e-02, 7.9441488e-01, ..., 3.9574500e-02,\n",
              "        9.0127479e-04, 6.6456790e-03],\n",
              "       [1.3750805e-02, 8.5718818e-03, 8.7829870e-01, ..., 2.9361445e-02,\n",
              "        5.0088466e-04, 3.1351396e-03],\n",
              "       ...,\n",
              "       [7.7484879e-03, 1.3697232e-02, 9.2902797e-01, ..., 2.1454869e-02,\n",
              "        5.0233473e-05, 1.0602260e-03],\n",
              "       [1.3011841e-01, 9.7800650e-02, 2.4608514e-01, ..., 2.4483795e-01,\n",
              "        1.3103562e-02, 1.3037877e-01],\n",
              "       [1.7521417e-01, 4.9986225e-02, 4.4030860e-01, ..., 2.1008655e-02,\n",
              "        5.7897898e-03, 2.1837698e-02]], dtype=float32)"
            ]
          },
          "metadata": {},
          "execution_count": 56
        }
      ],
      "source": [
        "y_pred = model.predict(X_test)\n",
        "y_pred"
      ]
    },
    {
      "cell_type": "code",
      "execution_count": 60,
      "metadata": {
        "collapsed": true,
        "jupyter": {
          "outputs_hidden": true
        },
        "tags": [],
        "colab": {
          "base_uri": "https://localhost:8080/"
        },
        "id": "xNLGnOTGNbyZ",
        "outputId": "bbd5f750-2600-4434-968a-85c967fbe269"
      },
      "outputs": [
        {
          "output_type": "stream",
          "name": "stdout",
          "text": [
            "[2, 2, 2, 2, 1, 2, 3, 3, 7, 3, 0, 2, 5, 3, 2, 2, 5, 2, 3, 2, 0, 2, 2, 2, 3, 1, 0, 3, 2, 5, 5, 3, 2, 4, 2, 0, 3, 1, 2, 4, 2, 0, 2, 1, 2, 2, 2, 1, 2, 3, 2, 2, 2, 1, 3, 3, 3, 1, 3, 3, 2, 2, 2, 2, 2, 2, 3, 1, 2, 5, 2, 3, 0, 2, 0, 3, 2, 3, 4, 1, 0, 4, 2, 0, 2, 3, 1, 2, 0, 3, 2, 2, 1, 3, 3, 0, 2, 5, 0, 2, 1, 2, 1, 2, 1, 1, 2, 3, 0, 0, 3, 2, 1, 1, 3, 2, 2, 2, 2, 4, 2, 2, 3, 1, 3, 2, 1, 5, 3, 3, 0, 2, 2, 3, 1, 2, 3, 0, 3, 0, 2, 2, 2, 2, 0, 2, 3, 4, 2, 2, 4, 2, 1, 0, 2, 2, 5, 5, 0, 0, 1, 3, 2, 1, 3, 3, 3, 1, 1, 2, 4, 0, 3, 4, 3, 2, 1, 5, 2, 0, 2, 4, 2, 3, 1, 3, 5, 3, 0, 0, 1, 3, 0, 3, 0, 0, 4, 3, 3, 2, 2, 3, 2, 2, 2, 2, 2, 2, 2, 1, 2, 2, 2, 2, 2, 2, 3, 3, 2, 3, 2, 2, 2, 2, 3, 2, 2, 2, 3, 1, 0, 2, 3, 3, 3, 1, 0, 3, 0, 1, 3, 5, 2, 2, 2, 2, 2, 1, 1, 4, 1, 2, 3, 3, 2, 1, 3, 2, 3, 0, 2, 1, 3, 3, 5, 1, 2, 2, 3, 3, 4, 2, 2, 2, 2, 0, 2, 2, 2, 1, 1, 2, 4, 2, 2, 4, 2, 1, 1, 2, 5, 5, 0, 3, 0, 0, 2, 5, 2, 5, 4, 0, 2, 2, 3, 2, 0, 1, 2, 3, 2, 1, 1, 2, 2, 2, 2, 0, 3, 2, 3, 5, 0, 4, 2, 1, 3, 2, 2, 2, 0, 2, 1, 2, 2, 4, 2, 0, 3, 3, 3, 2, 1, 2, 3, 3, 3, 1, 0, 2, 2, 1, 1, 2, 0, 1, 1, 2, 3, 5, 0, 3, 2, 2, 4, 1, 1, 1, 1, 2, 0, 1, 2, 4, 3, 1, 5, 5, 0, 2, 2, 3, 1, 1, 2, 2, 5, 2, 4, 3, 2, 1, 1, 2, 3, 2, 3, 3, 3, 3, 1, 3, 0, 2, 3, 2, 2, 2, 1, 2, 0, 3, 0, 0, 2, 2, 5, 2, 5, 1, 0, 2, 2, 0, 1, 3, 2, 2, 3, 0, 2, 2, 4, 0, 3, 3, 2, 2, 5, 2, 2, 1, 1, 3, 5, 5, 3, 3, 2, 3, 2, 2, 1, 3, 3, 3, 0, 1, 1, 2, 0, 2, 2, 4, 3, 5, 0, 3, 7, 3, 2, 2, 1, 4, 2, 1, 2, 0, 2, 4, 2, 3, 1, 2, 2, 2, 5, 3, 1, 2, 5, 4, 0, 3, 1, 0, 2, 0, 3, 5, 2, 3, 0, 0, 4, 1, 0, 1, 2, 5, 2, 5, 2, 2, 3, 5, 0, 2, 2, 2, 2, 2, 0, 2, 0, 2, 2, 0, 5, 3, 2, 0, 2, 2, 2, 2, 3, 2, 1, 2, 2, 2, 3, 3, 3, 2, 2, 1, 4, 0, 1, 5, 2, 5, 2, 1, 3, 2, 2, 1, 2, 0, 2, 0, 2, 0, 1, 1, 3, 3, 3, 0, 2, 0, 2, 1, 3, 2, 2, 1, 1, 4, 2, 2, 4, 0, 2, 0, 2, 3, 1, 2, 2, 2, 5, 2, 2, 3, 3, 1, 2, 2, 4, 2, 2, 0, 2, 1, 0, 0, 0, 2, 3, 2, 2, 3, 2, 2, 3, 0, 0, 0, 3, 5, 1, 2, 2, 2, 3, 0, 1, 3, 0, 2, 4, 2, 2, 3, 1, 2, 3, 2, 0, 1, 0, 2, 2, 7, 2, 1, 2, 3, 3, 2, 3, 2, 4, 2, 0, 2, 3, 3, 3, 3, 3, 5, 2, 0, 3, 3, 1, 4, 3, 2, 3, 3, 2, 1, 1, 1, 2, 2, 3, 1, 2, 2, 4, 4, 3, 0, 2, 1, 1, 2, 2, 2, 2, 3, 3, 1, 2, 2, 2, 2, 2, 3, 4, 2, 2, 1, 2, 2, 3, 1, 2, 2, 2, 2, 2, 5, 2, 3, 2, 2, 2, 2, 2, 5, 1, 2, 2, 2, 1, 2, 5, 2, 3, 0, 2, 2, 0, 2, 4, 0, 3, 1, 2, 0, 0, 5, 3, 0, 2, 2, 2, 5, 0, 3, 2, 2, 3, 2, 5, 1, 5, 2, 1, 2, 3, 2, 2, 1, 1, 3, 2, 2, 5, 2, 1, 0, 2, 1, 1, 2, 2, 5, 0, 2, 5, 2, 2, 0, 2, 4, 3, 2, 2, 2, 1, 0, 2, 1, 1, 0, 3, 0, 2, 3, 3, 2, 2, 2, 2, 2, 5, 2, 1, 5, 2, 1, 2, 3, 2, 2, 5, 5, 2, 1, 2, 2, 1, 1, 2, 2, 2, 0, 3, 4, 2, 3, 2, 2, 1, 2, 2, 0, 2, 5, 0, 5, 2, 2, 2, 3, 1, 3, 2, 1, 2, 2, 0, 1, 2, 0, 2, 2, 0, 1, 3, 4, 3, 2, 0, 2, 2, 2, 2, 3, 3, 2, 2, 0, 5, 2, 0, 2, 2, 3, 1, 0, 2, 3, 2, 0, 1, 2, 1, 3, 3, 3, 2, 3, 1, 3, 1, 5, 2, 1, 1, 5, 2, 4, 3, 2, 0, 1, 1, 1, 0, 2, 2, 1, 3, 2, 2, 0, 2, 3, 0, 3, 4, 4, 1, 1, 3, 1, 0, 0, 2, 0, 5, 0, 2, 3, 1, 0, 3, 2, 1, 2, 1, 0, 1, 2, 4, 0, 1, 2, 2, 2, 0, 0, 1, 2, 2, 1, 5, 0, 3, 2, 0, 2, 2, 2, 0, 3, 2, 2, 0, 2, 3, 0, 1, 1, 2, 3, 0, 0, 2, 2, 0, 2, 2, 4, 2, 2, 4, 2, 2, 1, 0, 0, 5, 1, 4, 4, 2, 2, 3, 1, 2, 1, 2, 1, 2, 0, 5, 1, 3, 3, 5, 3, 0, 2, 3, 2, 3, 2, 0, 2, 2, 1, 3, 1, 2, 3, 3, 2, 4, 0, 1, 2, 1, 5, 5, 0, 1, 3, 0, 2, 2, 3, 2, 3, 3, 5, 2, 2, 2, 0, 2, 3, 0, 0, 2, 2, 2, 0, 2, 2, 2, 2, 2, 2, 2, 0, 3, 0, 1, 0, 2, 4, 2, 1, 2, 1, 0, 1, 2, 4, 0, 1, 2, 1, 2, 2, 1, 2, 1, 2, 2, 2, 0, 1, 3, 5, 2, 1, 2, 3, 2, 3, 1, 2, 1, 3, 0, 2, 3, 2, 3, 2, 0, 2, 3, 2, 4, 2, 2, 2, 2, 2, 2, 5, 2, 1, 3, 2, 2, 2, 3, 0, 3, 2, 1, 0, 2, 2, 3, 3, 1, 2, 0, 2, 1, 1, 3, 5, 2, 2, 0, 2, 4, 4, 2, 3, 0, 3, 4, 2, 2, 2, 4, 1, 0, 0, 3, 5, 4, 1, 2, 3, 2, 2, 3, 3, 2, 5, 0, 3, 5, 2, 0, 4, 4, 1, 0, 3, 5, 0, 5, 0, 1, 4, 3, 1, 5, 5, 1, 2, 2, 0, 2, 1, 2, 3, 5, 0, 0, 1, 0, 0, 3, 3, 3, 3, 1, 2, 2, 2, 2, 1, 0, 2, 7, 0, 2, 2, 1, 2, 0, 2, 2, 0, 0, 3, 1, 2, 2, 3, 2, 3, 3, 4, 2, 2, 2, 0, 2, 3, 2, 2, 0, 2, 1, 3, 2, 2, 2, 2, 2, 2, 0, 2, 0, 2, 1, 0, 2, 1, 3, 1, 2, 2, 1, 4, 2, 1, 2, 5, 0, 0, 0, 4, 1, 3, 5, 0, 5, 2, 0, 0, 5, 3, 2, 1, 2, 2, 5, 1, 3, 2, 2, 0, 1, 3, 2, 2, 5, 1, 1, 0, 2, 4, 2, 5, 1, 2, 4, 0, 2, 2, 0, 2, 2, 2, 0, 2, 3, 2, 2, 0, 1, 2, 1, 0, 5, 2, 3, 1, 2, 0, 4, 3, 1, 2, 2, 2, 0, 2, 3, 1, 2, 2, 3, 5, 2, 1, 2, 2, 3, 2, 3, 2, 1, 1, 2, 2, 5, 1, 2, 3, 2, 2, 2, 2, 2, 3, 0, 2, 2, 2, 2, 0, 4, 1, 0, 3, 0, 3, 3, 3, 2, 2, 2, 2, 3, 0, 2, 2, 1, 2, 2, 3, 2, 2, 2, 1, 2, 0, 0, 3, 2, 3, 5, 0, 1, 2, 2, 0, 2, 3, 2, 2, 5, 2, 2, 2, 1, 2, 4, 1, 1, 0, 3, 2, 1, 1, 2, 2, 2, 5, 0, 2, 2, 2, 5, 2, 2, 2, 0, 3, 4, 5, 3, 1, 3, 3, 2, 5, 2, 2, 1, 0, 2, 0, 2, 2, 1, 3, 3, 2, 5, 2, 0, 3, 3, 5, 4, 2, 2, 2, 1, 3, 2, 1, 5, 0, 2, 4, 2, 2, 0, 2, 2, 2, 2, 3, 2, 2, 2, 1, 5, 2, 3, 0, 3, 2, 1, 0, 2, 1, 2, 2, 2, 0, 1, 2, 2, 3, 2, 2, 2, 2, 3, 0, 3, 2, 3, 2, 2, 2, 2, 2, 0, 1, 2, 3, 0, 5, 2, 5, 2, 2, 2, 4, 2, 0, 0, 2, 3, 1, 3, 0, 4, 1, 5, 1, 0, 5, 3, 0, 2, 3, 2, 0, 2, 2, 2, 5, 3, 4, 2, 1, 2, 4, 3, 1, 1, 2, 1, 2, 3, 2, 2, 0, 2, 3, 5, 2, 1, 2, 2, 2, 3, 2, 1, 2, 2, 1, 2, 3, 1, 3, 2, 2, 2, 2, 0, 2, 1, 0, 3, 1, 0, 3, 3, 0, 3, 0, 2, 2, 2, 0, 0, 0, 2, 3, 2, 2, 3, 3, 2, 2, 1, 1, 2, 2, 3, 5, 2, 3, 0, 5, 2, 0, 2, 2, 1, 4, 1, 4, 1, 1, 1, 4, 3, 0, 0, 5, 3, 2, 1, 2, 0, 2, 2, 0, 1, 3, 1, 3, 3, 2, 2, 2, 3, 2, 4, 0, 1, 2, 0, 0, 1, 1, 1, 3, 3, 2, 3, 2, 0, 2, 0, 3, 2, 1, 1, 1, 1, 3, 2, 3, 2, 1, 2, 1, 1, 1, 2, 2, 3, 5, 0, 1, 3, 0, 3, 2, 2, 3, 0, 1, 2, 2, 1, 5, 2, 1, 0, 3, 3, 2, 5, 3, 3, 2, 1, 2, 2, 2, 4, 2, 2, 2, 0, 2, 2, 4, 2, 0, 3, 2, 1, 4, 4, 3, 2, 0, 0, 2, 4, 3, 3, 2, 2, 2, 2, 2, 0, 2, 4, 2, 5, 1, 3, 2, 2, 2, 2, 0, 0, 2, 2, 2, 3, 2, 3, 3, 2, 5, 1, 0, 0, 2, 0, 2, 2, 1, 2, 3, 2, 2, 2, 2, 4, 3, 2, 0, 0, 2, 0, 2, 1, 0, 0, 3, 1, 3, 2, 0, 2, 3, 1, 3, 3, 2, 0, 0, 3, 1, 1, 2, 3, 3, 1, 5, 3, 3, 1, 3, 1, 2, 5, 2, 2, 3, 3, 2, 2, 1, 3, 2, 5, 0, 2, 3, 3, 3, 2, 2, 3, 2, 0, 0, 2, 3, 2, 0, 2, 3, 0, 2, 2, 1, 2, 3, 2, 1, 2, 2, 0, 3, 1, 3, 2, 5, 1, 3, 0, 2, 3, 2, 4, 2, 2, 1, 2, 2, 2, 0, 1, 5, 1, 3, 2, 2, 3, 2, 1, 5, 2, 0, 3, 2, 1, 0, 1, 3, 2, 2, 2, 4, 1, 1, 2, 2, 2, 1, 2, 2, 2, 2, 0, 3, 2, 2, 2, 2, 3, 2, 2, 2, 1, 4, 1, 0, 2, 2, 4, 4, 2, 0, 0, 2, 0, 4, 2, 2, 3, 3, 3, 3, 2, 5, 2, 4, 0, 2, 2, 3, 1, 2, 1, 2, 3, 1, 2, 2, 0, 1, 0, 2, 2, 0, 2, 4, 1, 2, 4, 0, 3, 2, 2, 3, 0, 2, 2, 1, 1, 1, 2, 5, 5, 2, 4, 0, 4, 1, 1, 2, 0, 2, 1, 1, 1, 3, 0, 0, 2, 2, 1, 2, 0, 5, 3, 3, 3, 5, 1, 0, 2, 2, 2, 0, 5, 0, 4, 1, 2, 3, 2, 0, 2, 2, 5, 1, 2, 1, 2, 4, 1, 5, 2, 2, 1, 2, 0, 3, 2, 5, 3, 0, 2, 2, 2, 4, 3, 2, 0, 0, 4, 0, 2, 1, 3, 2, 3, 1, 4, 3, 2, 2, 2, 5, 2, 1, 1, 2, 0, 0, 0, 2, 2, 1, 2, 2, 2, 1, 2, 0, 2, 2, 2, 1, 2, 5, 2, 4, 2, 2, 3, 2, 2, 2, 0, 0, 5, 2, 2, 5, 0, 0, 4, 3, 2, 5, 2, 3, 3, 1, 5, 1, 1, 2, 5, 3, 1, 2, 3, 2, 2, 2, 2, 2, 1, 2, 1, 1, 1, 3, 2, 4, 1, 4, 3, 1, 3, 2, 7, 2, 3, 0, 2, 4, 3, 0, 0, 2, 3, 2, 5, 1, 0, 3, 2, 3, 3, 2, 2, 2, 0, 2, 0, 3, 2, 0, 2, 1, 1, 2, 0, 0, 2, 4, 2, 2, 1, 2, 2, 0, 3, 0, 3, 5, 3, 4, 3, 2, 0, 2, 3, 2, 2, 3, 5, 3, 3, 2, 2, 3, 2, 2, 2, 2, 2, 0, 4, 2, 0, 2, 2, 0, 3, 3, 1, 3, 2, 3, 3, 2, 3, 2, 2, 2, 1, 3, 3, 2, 2, 2, 2, 1, 2, 2, 1, 2, 0, 4, 2, 2, 3, 3, 3, 2, 0, 0, 2, 2, 1, 0, 2, 2, 5, 2, 2, 3, 1, 2, 1, 5, 2, 1, 3, 5, 3, 1, 1, 2, 3, 2, 3, 0, 1, 2, 2, 2, 2, 0, 2, 2, 4, 4, 5, 2, 2, 5, 1, 5, 0, 3, 2, 2, 3, 1, 3, 3, 0, 3, 3, 2, 5, 2, 5, 2, 3, 2, 0, 2, 1, 4, 2, 1, 2, 2, 4, 5, 5, 1, 0, 2, 1, 5, 0, 2, 2, 0, 1, 1, 3, 3, 2, 3, 2, 2, 2, 1, 2, 2, 3, 2, 2, 3, 2, 2, 2, 2, 1, 2, 2, 4, 2, 5, 2, 2, 3, 2, 3, 5, 2, 1, 0, 1, 0, 2, 3, 3, 2, 1, 3, 1, 2, 2, 2, 0, 5, 1, 0, 1, 2, 3, 2, 3, 3, 2, 2, 2, 3, 1, 2, 3, 2, 2, 2, 1, 2, 3, 1, 2, 3, 2, 1, 0, 1, 1, 2, 3, 0, 2, 2, 3, 5, 2, 1, 5, 5, 2, 2, 2, 2, 5, 2, 3, 1, 3, 5, 0, 4, 0, 2, 2, 1, 3, 4, 3, 2, 0, 2, 0, 1, 4, 0, 3, 0, 3, 3, 0, 0, 2, 1, 3, 2, 1, 0, 2, 0, 1, 2, 1, 5, 2, 3, 5, 2, 3, 2, 0, 3, 3, 2, 1, 1, 0, 2, 1, 3, 4, 1, 3, 3, 0, 2, 2, 1, 3, 0, 2, 1, 2, 1, 0, 3, 0, 3, 5, 0, 0, 1, 0, 3, 3, 1, 2, 5, 2, 2, 4, 3, 2, 0, 5, 3, 3, 2, 2, 3, 1, 2, 2, 2, 2, 4, 2, 0, 1, 1, 2, 1, 1, 2, 4, 3, 1, 2, 3, 2, 5, 3, 1, 3, 1, 3, 3, 2, 1, 3, 2, 3, 2, 3, 5, 1, 3, 2, 0, 1, 3, 0, 2, 3, 2, 5, 4, 2, 0, 1, 2, 2, 2, 0, 1, 5, 1, 3, 1, 2, 0, 0, 2, 2, 2, 5, 2, 2, 2, 2, 0, 2, 0, 3, 5, 2, 2, 2, 0, 3, 2, 3, 2, 3, 0, 4, 2, 3, 2, 3, 2, 3, 2, 3, 2, 2, 1, 1, 3, 2, 3, 0, 5, 2, 2, 3, 1, 2, 0, 1, 2, 0, 2, 2, 3, 3, 3, 2, 2, 2, 1, 1, 3, 2, 3, 2, 3, 2, 2, 2, 3, 2, 4, 2, 2, 1, 2, 2, 3, 1, 2, 0, 2, 2, 1, 2, 2, 3, 1, 2, 0, 3, 4, 3, 4, 2, 5, 0, 1, 5, 4, 0, 2, 2, 1, 0, 2, 1, 5, 2, 2, 2, 2, 1, 1, 2, 3, 5, 1, 5, 2, 3, 0, 2, 2, 2, 0, 2, 2, 1, 2, 1, 3, 0, 2, 2, 4, 3, 2, 2, 5, 2, 0, 3, 2, 3, 1, 5, 2, 2, 2, 0, 0, 2, 2, 2, 1, 2, 0, 2, 4, 0, 1, 2, 2, 3, 2, 3, 2, 3, 3, 1, 2, 3, 1, 0, 0, 2, 2, 3, 5, 1, 2, 2, 1, 3, 2, 2, 2, 2, 0, 1, 2, 2, 2, 2, 5, 5, 2, 4, 2, 3, 3, 0, 5, 0, 0, 5, 3, 2, 3, 2, 2, 3, 0, 2, 2, 2, 2, 2, 1, 0, 1, 4, 0, 1, 2, 2, 1, 2, 3, 2, 1, 2, 1, 0, 4, 3, 2, 4, 5, 3, 2, 3, 2, 2, 1, 1, 2, 3, 4, 0, 1, 0, 2, 0, 1, 2, 3, 2, 2, 2, 0, 2, 2, 3, 2, 2, 2, 0, 3, 5, 0, 2, 2, 2, 1, 3, 3, 3, 0, 1, 4, 4, 3, 3, 1, 2, 3, 4, 3, 2, 2, 5, 0, 0, 0, 3, 2, 0, 1, 2, 1, 2, 2, 1, 0, 1, 2, 2, 3, 0, 3, 2, 3, 2, 1, 2, 3, 2, 3, 0, 2, 2, 2, 3, 2, 2, 2, 3, 1, 0, 5, 1, 2, 2, 3, 1, 2, 0, 2, 2, 4, 2, 2, 2, 2, 0, 1, 0, 2, 2, 0, 2, 0, 2, 1, 0, 0, 3, 3, 3, 0, 3, 3, 3, 5, 5, 2, 0, 3, 2, 2, 0, 0, 1, 2, 5, 5, 3, 2, 1, 3, 1, 2, 1, 3, 2, 2, 3, 2, 1, 2, 2, 5, 2, 2, 0, 2, 0, 4, 2, 1, 2, 2, 2, 3, 3, 1, 2, 3, 2, 2, 2, 2, 2, 3, 2, 2, 2, 5, 0, 3, 2, 2, 1, 3, 3, 2, 3, 4, 2, 1, 2, 0, 5, 3, 0, 0, 1, 2, 2, 3, 2, 0, 2, 4, 2, 3, 1, 0, 3, 1, 5, 3, 1, 1, 1, 0, 2, 3, 5, 1, 4, 0, 1, 2, 5, 5, 0, 0, 5, 3, 3, 3, 2, 3, 2, 4, 3, 0, 0, 1, 4, 3, 1, 3, 2, 4, 2, 1, 2, 3, 1, 1, 3, 0, 3, 0, 2, 2, 1, 2, 2, 3, 1, 1, 3, 2, 0, 2, 2, 1, 3, 0, 5, 1, 3, 0, 0, 1, 2, 2, 5, 2, 1, 2, 2, 2, 3, 5, 1, 2, 2, 2, 2, 1, 3, 2, 3, 3, 2, 0, 0, 0, 2, 1, 0, 3, 2, 3, 2, 3, 2, 2, 2, 2, 2, 5, 3, 2, 2, 2, 1, 0, 3, 0, 0, 1, 2, 3, 2, 3, 2, 2, 2, 3, 4, 4, 0, 3, 3, 1, 3, 2, 2, 5, 2, 7, 2, 2, 0, 2, 2, 5, 2, 2, 1, 2, 1, 0, 2, 2, 3, 3, 3, 2, 1, 1, 2, 3, 4, 3, 2, 1, 2, 0, 2, 3, 3, 0, 2, 3, 0, 2, 1, 3, 3, 2, 3, 2, 0, 1, 2, 3, 1, 3, 2, 1, 4, 3, 2, 2, 3, 2, 2, 2, 3, 2, 2, 2, 2, 2, 2, 1, 5, 2, 0, 1, 5, 3, 1, 2, 0, 2, 3, 4, 3, 2, 1, 0, 2, 2, 2, 3, 3, 3, 2, 0, 3, 2, 5, 0, 1, 2, 1, 1, 3, 2, 1, 0, 2, 1, 2, 5, 2, 0, 0, 2, 2, 2, 2, 0, 4, 1, 1, 0, 2, 0, 3, 2, 1, 2, 5, 2, 2, 5, 2, 3, 0, 1, 1, 3, 4, 2, 2, 0, 1, 3, 2, 0, 0, 0, 1, 0, 2, 0, 1, 2, 0, 2, 2, 2, 2, 5, 2, 4, 1, 2, 1, 0, 3, 2, 2, 0, 0, 1, 1, 2, 0, 2, 0, 2, 1, 2, 1, 2, 5, 2, 3, 4, 3, 1, 3, 2, 0, 1, 1, 2, 1, 1, 1, 2, 1, 2, 2, 1, 2, 3, 2, 1, 4, 3, 2, 3, 2, 3, 2, 0, 4, 2, 0, 2, 2, 2, 2, 3, 4, 2, 1, 2, 0, 3, 2, 0, 2, 2, 1, 0, 2, 1, 2, 3, 0, 2, 1, 3, 2, 3, 5, 2, 2, 3, 1, 2, 3, 0, 2, 1, 3, 2, 2, 2, 2, 0, 2, 0, 2, 2, 4, 5, 1, 2, 1, 3, 2, 3, 5, 2, 2, 1, 0, 2, 2, 2, 0, 4, 0, 3, 0, 3, 2, 3, 0, 0, 3, 3, 5, 3, 2, 2, 0, 2, 0, 2, 0, 2, 2, 3, 1, 2, 3, 2, 2, 2, 0, 0, 2, 1, 2, 5, 2, 2, 2, 4, 1, 2, 0, 1, 0, 2, 2, 1, 2, 1, 2, 2, 3, 0, 4, 2, 1, 1, 3, 2, 5, 2, 1, 3, 2, 1, 1, 3, 1, 2, 2, 0, 2, 1, 2, 1, 0, 2, 2, 0, 1, 5, 2, 2, 2, 1, 5, 2, 3, 2, 3, 3, 5, 2, 3, 2, 3, 2, 2, 2, 3, 2, 3, 1, 5, 3, 3, 0, 1, 0, 0, 0, 2, 5, 2, 3, 2, 2, 3, 2, 2, 2, 3, 2, 5, 3, 1, 2, 0, 2, 3, 4, 2, 4, 4, 3, 2, 0, 3, 5, 3, 1, 0, 5, 3, 2, 2, 4, 2, 2, 3, 1, 1, 2, 5, 3, 0, 2, 2, 1, 0, 0, 4, 1, 2, 0, 1, 3, 2, 1, 4, 2, 3, 2, 3, 2, 2, 4, 2, 2, 2, 0, 5, 4, 3, 5, 5, 3, 0, 0, 2, 3, 1, 0, 3, 1, 3, 0, 2, 2, 2, 2, 1, 1, 2, 3, 2, 3, 3, 2, 1, 2, 3, 2, 0, 3, 2, 2, 2, 3, 4, 0, 1, 3, 2, 2, 1, 2, 3, 5, 3, 2, 3, 1, 2, 0, 2, 2, 0, 3, 3, 5, 5, 5, 5, 2, 0, 2, 2, 3, 2, 3, 2, 2, 5, 2, 3, 0, 3, 2, 1, 2, 2, 2, 1, 2, 2, 1, 4, 3, 2, 0, 1, 1, 3, 2, 0, 2, 1, 0, 2, 2, 2, 5, 3, 3, 4, 1, 2, 3, 0, 1, 1, 2, 4, 3, 3, 3, 0, 1, 1, 0, 2, 2, 2, 3, 0, 4, 1, 2, 3, 2, 2, 0, 5, 2, 3, 0, 2, 2, 2, 3, 5, 5, 0, 4, 1, 2, 0, 2, 0, 2, 2, 2, 1, 0, 1, 2, 2, 2, 3, 0, 4, 3, 2, 0, 0, 2, 0, 0, 3, 0, 2, 1, 5, 0, 5, 4, 2, 1, 2, 0, 1, 2, 3, 2, 0, 3, 3, 3, 1, 2, 2, 2, 0, 3, 3, 2, 3, 2, 2, 3, 2, 1, 0, 0, 0, 3, 1, 2, 5, 3, 2, 3, 4, 2, 7, 2, 2, 1, 2, 3, 1, 2, 2, 2, 2, 2, 0, 4, 2, 0, 5, 1, 4, 2, 3, 1, 2, 2, 2, 0, 2, 5, 1, 0, 0, 3, 2, 3, 3, 0, 2, 5, 1, 1, 3, 0, 5, 2, 4, 3, 2, 2, 3, 4, 3, 0, 2, 0, 2, 0, 0, 5, 0, 5, 2, 1, 2, 2, 2, 0, 2, 1, 0, 3, 3, 3, 4, 2, 2, 2, 2, 5, 1, 3, 0, 2, 2, 0, 2, 0, 4, 0, 5, 1, 4, 2, 3, 2, 3, 2, 3, 2, 0, 0, 3, 5, 3, 2, 2, 3, 3, 2, 2, 2, 2, 2, 2, 2, 2, 2, 4, 2, 4, 0, 3, 2, 1, 2, 2, 1, 3, 2, 4, 1, 5, 2, 2, 4, 3, 3, 2, 0, 0, 2, 0, 2, 0, 1, 2, 2, 2, 2, 2, 3, 2, 1, 0, 2, 0, 2, 0, 1, 2, 1, 2, 2, 0, 2, 3, 2, 5, 3, 4, 1, 3, 0, 1, 1, 0, 3, 2, 0, 2, 5, 2, 3, 5, 2, 1, 2, 3, 3, 3, 3, 2, 1, 2, 2, 2, 3, 2, 2, 1, 2, 0, 2, 2, 2, 2, 0, 3, 2, 1, 1, 1, 2, 0, 1, 2, 2, 2, 3, 2, 0, 3, 2, 2, 2, 2, 0, 2, 2, 3, 3, 1, 2, 0, 3, 2, 3, 0, 2, 1, 3, 2, 2, 2, 0, 1, 1, 3, 2, 3, 2, 2, 4, 1, 2, 0, 3, 2, 4, 4, 3, 3, 2, 1, 2, 3, 0, 2, 3, 3, 2, 1, 2, 2, 3, 5, 0, 0, 5, 2, 0, 4, 3, 0, 2, 5, 3, 1, 1, 5, 4, 2, 0, 2, 2, 2, 5, 1, 2, 2, 1, 2, 0, 1, 3, 2, 3, 1, 2, 2, 2, 2, 1, 1, 2, 3, 1, 0, 2, 2, 2, 2, 1, 3, 2, 2, 0, 3, 5, 5, 3, 0, 2, 3, 3, 0, 2, 3, 1, 3, 4, 3, 2, 2, 3, 4, 1, 1, 3, 2, 3, 2, 2, 1, 2, 2, 3, 2, 1, 2, 2, 3, 2, 2, 4, 2, 2, 7, 2, 2, 2, 2, 3, 2, 0, 3, 1, 4, 2, 0, 2, 2, 4, 3, 3, 2, 5, 2, 3, 2, 2, 2, 5, 0, 2, 2, 3, 5, 5, 2, 3, 1, 3, 0, 1, 2, 2, 2, 1, 3, 3, 3, 5, 3, 3, 2, 1, 2, 2, 0, 3, 1, 1, 4, 0, 0, 2, 5, 1, 2, 3, 3, 0, 3, 2, 5, 0, 1, 5, 0, 5, 1, 1, 2, 2, 2, 5, 3, 5, 0, 2, 0, 2, 1, 5, 2, 2, 2, 1, 3, 5, 2, 1, 2, 3, 2, 5, 1, 5, 2, 1, 1, 2, 2, 4, 2, 1, 2, 3, 0, 2, 3, 0, 2, 1, 2, 0, 1, 2, 2, 3, 1, 1, 0, 2, 1, 2, 0, 2, 0, 0, 2, 3, 2, 1, 2, 3, 4, 4, 2, 5, 2, 2, 3, 0, 2, 1, 1, 1, 2, 3, 2, 5, 3, 0, 3, 1, 2, 4, 4, 2, 3, 4, 2, 0, 0, 0, 3, 3, 0, 2, 5, 0, 2, 3, 2, 4, 5, 2, 4, 2, 5, 5, 2, 0, 3, 2, 1, 2, 2, 2, 2, 5, 2, 1, 1, 2, 3, 1, 2, 3, 2, 3, 4, 2, 1, 2, 0, 0, 2, 3, 2, 1, 2, 2, 2, 2, 5, 0, 5, 3, 4, 2, 4, 2, 2, 2, 2, 3, 2, 3, 1, 0, 2, 3, 1, 2, 2, 2, 1, 1, 2, 2, 5, 3, 2, 3, 5, 2, 3, 1, 2, 2, 0, 2, 2, 2, 2, 0, 2, 1, 2, 5, 2, 0, 2, 1, 2, 3, 3, 2, 1, 3, 2, 2, 3, 3, 2, 4, 4, 0, 4, 2, 1, 2, 3, 3, 1, 1, 0, 1, 2, 2, 1, 2, 3, 0, 2, 0, 1, 3, 0, 2, 1, 4, 0, 2, 5, 2, 1, 2, 1, 2, 7, 2, 1, 1, 1, 3, 2, 2, 3, 2, 2, 2, 1, 2, 1, 2, 2, 2, 1, 3, 4, 3, 1, 2, 0, 0, 2, 2, 3, 2, 2, 3, 1, 1, 3, 2, 2, 2, 4, 4, 1, 5, 2, 2, 2, 5, 1, 5, 2, 2, 2, 2, 2, 1, 0, 1, 1, 2, 3, 2, 2, 2, 2, 2, 3, 3, 2, 3, 0, 2, 2, 3, 1, 1, 1, 1, 0, 2, 2, 1, 3, 2, 3, 2, 0, 5, 2, 3, 1, 2, 2, 2, 2, 1, 3, 2, 5, 1, 2, 1, 3, 4, 2, 1, 3, 3, 2, 3, 2, 2, 5, 2, 0, 5, 2, 5, 1, 0, 3, 2, 1, 3, 1, 5, 2, 3, 4, 3, 2, 2, 2, 1, 5, 0, 0, 3, 2, 2, 1, 2, 1, 1, 3, 2, 0, 3, 2, 2, 1, 0, 5, 4, 2, 5, 1, 2, 1, 2, 2, 2, 2, 2, 0, 2, 5, 3, 3, 3, 4, 3, 2, 1, 3, 2, 2, 2, 3, 2, 2, 2, 3, 0, 3, 2, 1, 1, 2, 0, 2, 3, 1, 3, 2, 4, 2, 2, 1, 0, 3, 2, 2, 1, 2, 2, 3, 3, 1, 2, 3, 3, 2, 4, 3, 2, 1, 2, 3, 4, 0, 0, 0, 0, 2, 2, 2, 1, 2, 2, 3, 2, 2, 2, 2, 3, 1, 3, 1, 3, 2, 2, 2, 0, 1, 2, 1, 2, 2, 3, 4, 3, 3, 0, 5, 3, 3, 3, 4, 2, 2, 5, 2, 2, 3, 2, 2, 5, 3, 0, 0, 3, 2, 2, 2, 3, 4, 2, 1, 2, 1, 2, 5, 0, 3, 2, 2, 2, 3, 1, 3, 2, 3, 2, 2, 2, 2, 1, 4, 3, 3, 3, 2, 1, 0, 2, 3, 0, 2, 2, 3, 0, 2, 1, 0, 3, 1, 2, 0, 4, 0, 4, 1, 3, 2, 1, 0, 2, 3, 0, 2, 0, 2, 0, 2, 3, 0, 2, 0, 2, 1, 2, 0, 2, 0, 2, 3, 1, 3, 5, 2, 3, 2, 2, 4, 0, 5, 3, 0, 4, 2, 3, 2, 1, 2, 2, 5, 3, 3, 2, 2, 0, 0, 3, 3, 1, 2, 3, 2, 1, 2, 4, 2, 3, 5, 1, 2, 2, 2, 2, 2, 4, 2, 2, 3, 2, 3, 1, 1, 1, 4, 2, 2, 2, 1, 5, 2, 0, 4, 0, 1, 2, 3, 1, 2, 1, 3, 5, 2, 2, 5, 2, 2, 3, 3, 5, 0, 3, 2, 3, 3, 2, 0, 0, 1, 4, 0, 4, 0, 3, 5, 4, 2, 0, 4, 2, 5, 3, 2, 1, 2, 4, 2, 1, 3, 2, 2, 3, 0, 3, 3, 3, 2, 2, 0, 2, 2, 2, 2, 4, 2, 2, 3, 1, 2, 2, 3, 2, 5, 1, 5, 5, 2, 2, 1, 0, 1, 4, 3, 0, 3, 1, 2, 3, 1, 0, 1, 0, 2, 1, 2, 2, 1, 3, 2, 2, 0, 2, 2, 0, 2, 2, 0, 0, 4, 2, 3, 3, 3, 3, 2, 3, 5, 3, 1, 0, 4, 2, 2, 1, 3, 0, 7, 3, 0, 0, 2, 1, 1, 3, 2, 4, 0, 3, 0, 1, 0, 2, 2, 0, 1, 2, 2, 2, 1, 3, 0, 5, 0, 5, 2, 1, 0, 2, 3, 3, 3, 2, 5, 3, 0, 1, 5, 2, 2, 2, 1, 2, 3, 0, 4, 3, 1, 2, 0, 2, 2, 2, 0, 2, 2, 2, 2, 5, 4, 0, 2, 1, 1, 2, 7, 0, 1, 4, 1, 3, 0, 2, 0, 1, 1, 3, 4, 2, 2, 2, 0, 1, 0, 2, 2, 1, 3, 2, 5, 2, 2, 1, 4, 2, 1, 3, 3, 3, 0, 2, 2, 0, 3, 3, 4, 3, 0, 3, 2, 2, 3, 1, 2, 2, 1, 3, 2, 2, 2, 2, 3, 2, 3, 2, 2, 2, 5, 3, 2, 2, 2, 3, 2, 2, 1, 3, 0, 1, 3, 3, 2, 3, 0, 1, 2, 2, 1, 2, 0, 2, 2, 3, 5, 2, 5, 0, 5, 2, 4, 4, 5, 1, 2, 3, 2, 2, 2, 3, 1, 3, 2, 2, 3, 2, 2, 5, 0, 1, 2, 2, 0, 0, 2, 2, 2, 3, 3, 5, 2, 5, 1, 3, 3, 2, 2, 0, 5, 2, 1, 4, 0, 3, 4, 0, 3, 1, 0, 2, 5, 0, 2, 1, 3, 2, 2, 3, 3, 0, 2, 1, 0, 2, 4, 4, 2, 2, 0, 2, 2, 0, 3, 0, 2, 2, 3, 3, 2, 1, 3, 2, 1, 3, 2, 1, 2, 3, 1, 0, 1, 2, 0, 5, 4, 3, 5, 2, 3, 1, 4, 0, 2, 0, 2, 1, 3, 2, 0, 1, 1, 3, 2, 2, 2, 2, 3, 2, 3, 2, 0, 2, 3, 2, 2, 2, 3, 3, 2, 3, 3, 2, 2, 4, 4, 0, 2, 3, 3, 3, 2, 2, 3, 1, 2, 3, 3, 3, 2, 3, 0, 2, 4, 3, 0, 2, 0, 5, 3, 3, 3, 0, 2, 3, 5, 1, 2, 3, 0, 1, 4, 2, 3, 3, 2, 4, 2, 2, 2, 0, 5, 2, 2, 2, 1, 2, 2, 0, 1, 2, 0, 2, 2, 2, 1, 3, 5, 2, 2, 0, 1, 3, 2, 5, 3, 2, 2, 2, 1, 1, 0, 2, 5, 2, 3, 2, 3, 1, 0, 0, 2, 3, 5, 3, 1, 3, 1, 2, 1, 1, 2, 2, 1, 2, 3, 3, 4, 4, 2, 2, 3, 3, 3, 2, 2, 5, 5, 2, 3, 0, 1, 2, 3, 2, 0, 2, 2, 3, 0, 2, 2, 0, 0, 0, 0, 2, 3, 2, 2, 5, 2, 2, 2, 0, 4, 4, 1, 0, 0, 2, 3, 3, 0, 1, 2, 2, 0, 1, 1, 0, 3, 2, 0, 1, 2, 1, 5, 3, 2, 0, 1, 1, 2, 2, 3, 2, 2, 5, 2, 1, 3, 3, 5, 3, 2, 0, 1, 2, 3, 3, 3, 2, 5, 2, 3, 4, 1, 2, 1, 2, 0, 1, 4, 2, 2, 3, 1, 1, 2, 2, 3, 5, 3, 1, 2, 2, 1, 3, 1, 2, 3, 3, 3, 0, 1, 0, 2, 1, 2, 3, 4, 2, 5, 3, 2, 4, 2, 5, 3, 2, 1, 1, 2, 2, 3, 2, 3, 2, 1, 0, 1, 3, 5, 3, 0, 0, 2, 1, 4, 5, 5, 5, 3, 2, 2, 2, 2, 0, 4, 0, 0, 1, 2, 2, 1, 2, 3, 2, 2, 2, 2, 2, 3, 3, 2, 2, 2, 3, 2, 2, 3, 2, 2, 4, 3, 2, 0, 2, 0, 3, 3, 1, 3, 3, 2, 0, 2, 3, 2, 1, 1, 3, 3, 1, 3, 3, 3, 0, 2, 2, 3, 0, 2, 0, 5, 2, 2, 0, 3, 2, 3, 2, 0, 3, 3, 2, 0, 0, 2, 2, 0, 1, 4, 0, 0, 4, 1, 3, 2, 2, 2, 3, 2, 2, 2, 3, 2, 0, 3, 2, 3, 3, 2, 0, 5, 2, 0, 2, 0, 3, 2, 3, 2, 2, 3, 0, 3, 3, 4, 1, 1, 4, 2, 2, 2, 3, 4, 2, 2, 2, 2, 1, 2, 1, 5, 5, 5, 0, 2, 2, 0, 3, 2, 2, 5, 2, 3, 1, 1, 0, 3, 3, 3, 1, 1, 2, 3, 3, 2, 2, 2, 1, 5, 2, 4, 3, 2, 4, 3, 4, 2, 0, 3, 2, 0, 1, 3, 3, 3, 2, 2, 2, 2, 3, 1, 0, 0, 2, 2, 3, 4, 3, 2, 2, 2, 5, 1, 5, 2, 2, 2, 2, 2, 0, 2, 4, 0, 2, 0, 2, 2, 2, 4, 2, 3, 2, 2, 1, 1, 2, 3, 2, 2, 0, 5, 3, 3, 2, 3, 3, 0, 5, 0, 2, 0, 1, 0, 1, 2, 1, 3, 0, 3, 3, 2, 0, 3, 2, 1, 0, 3, 2, 3, 0, 2, 3, 2, 4, 3, 4, 5, 5, 1, 3, 3, 0, 2, 3, 2, 1, 3, 3, 3, 2, 2, 3, 1, 2, 2, 1, 2, 2, 1, 5, 1, 0, 2, 4, 2, 0, 0, 0, 3, 2, 2, 1, 2, 2, 2, 1, 0, 3, 2, 2, 0, 3, 2, 2, 5, 2, 5, 3, 3, 0, 2, 5, 4, 4, 0, 0, 3, 2, 5, 0, 2, 3, 2, 3, 3, 3, 2, 2, 3, 3, 0, 2, 1, 4, 3, 3, 2, 5, 0, 1, 3, 3, 2, 1, 1, 1, 0, 3, 1, 4, 1, 1, 2, 5, 0, 0, 0, 5, 1, 2, 5, 2, 4, 2, 2, 3, 3, 2, 0, 0, 2, 0, 2, 1, 3, 1, 1, 2, 1, 0, 2, 2, 2, 2, 5, 2, 3, 0, 2, 7, 2, 2, 2, 1, 3, 0, 5, 0, 3, 2, 0, 2, 4, 1, 2, 4, 1, 0, 2, 3, 3, 1, 5, 3, 2, 3, 3, 2, 2, 2, 1, 2, 3, 1, 1, 2, 5, 2, 3, 2, 0, 2, 3, 1, 4, 5, 5, 1, 3, 3, 0, 2, 1, 2, 2, 2, 3, 2, 1, 0, 2, 2, 0, 3, 2, 5, 4, 0, 2, 2, 3, 2, 3, 3, 0, 2, 0, 2, 2, 2, 1, 2, 1, 0, 2, 3, 1, 1, 0, 3, 0, 3, 2, 4, 3, 1, 2, 3, 2, 2, 2, 2, 2, 3, 5, 5, 2, 2, 1, 4, 2, 5, 3, 2, 1, 3, 2, 2, 1, 0, 2, 0, 2, 2, 2, 0, 1, 1, 0, 3, 5, 2, 1, 0, 3, 0, 2, 2, 2, 4, 2, 0, 2, 0, 2, 3, 1, 4, 2, 2, 3, 2, 2, 3, 2, 0, 3, 0, 1, 1, 3, 3, 1, 2, 3, 1, 2, 1, 5, 2, 2, 5, 2, 3, 0, 0, 2, 2, 2, 0, 3, 2, 3, 3, 5, 4, 2, 1, 4, 4, 5, 2, 4, 2, 2, 2, 3, 0, 3, 1, 0, 1, 0, 5, 2, 3, 2, 0, 4, 5, 5, 2, 3, 1, 1, 3, 2, 1, 3, 1, 3, 2, 0, 2, 1, 1, 0, 3, 0, 2, 2, 3, 1, 1, 1, 1, 2, 4, 3, 3, 2, 2, 3, 2, 2, 1, 2, 3, 2, 1, 5, 2, 2, 0, 2, 1, 0, 1, 4, 5, 2, 2, 2, 1, 0, 4, 2, 4, 0, 2, 3, 0, 3, 3, 4, 1, 3, 2, 2, 1, 1, 1, 1, 2, 2, 2, 3, 0, 0, 3, 3, 1, 2, 1, 4, 2, 0, 1, 3, 2, 2, 0, 1, 3, 0, 2, 5, 2, 1, 0, 2, 3, 2, 3, 2, 2, 1, 5, 1, 2, 3, 3, 2, 3, 2, 2, 2, 0, 2, 1, 4, 3, 2, 2, 2, 2, 2, 3, 1, 2, 4, 2, 3, 5, 2, 0, 1, 0, 4, 2, 4, 2, 3, 2, 5, 2, 2, 2, 5, 1, 5, 4, 2, 0, 3, 0, 2, 3, 1, 2, 3, 2, 0, 5, 0, 0, 2, 2, 0, 3, 1, 2, 3, 2, 5, 0, 5, 2, 2, 0, 3, 3, 1, 2, 5, 5, 2, 0, 3, 3, 5, 0, 1, 1, 2, 2, 2, 2, 4, 5, 2, 2, 4, 2, 3, 2, 3, 0, 3, 1, 1, 4, 4, 2, 1, 2, 0, 5, 0, 2, 2, 0, 1, 1, 1, 3, 0, 2, 3, 4, 1, 3, 2, 2, 2, 1, 3, 5, 3, 2, 3, 1, 2, 2, 3, 3, 2, 2, 2, 2, 2, 2, 3, 4, 3, 3, 3, 2, 2, 2, 2, 5, 2, 2, 1, 3, 2, 2, 4, 5, 2, 2, 1, 0, 0, 1, 0, 2, 3, 1, 1, 3, 1, 0, 5, 0, 0, 2, 2, 1, 0, 0, 3, 3, 3, 2, 2, 2, 3, 5, 2, 2, 5, 2, 1, 0, 3, 3, 4, 2, 3, 0, 2, 2, 2, 2, 2, 1, 0, 0, 2, 0, 4, 2, 2, 2, 3, 2, 2, 4, 0, 3, 0, 5, 1, 3, 3, 2, 1, 2, 3, 2, 3, 5, 2, 2, 3, 2, 2, 3, 2, 5, 3, 2, 2, 3, 2, 2, 3, 2, 4, 0, 3, 5, 5, 3, 0, 0, 5, 3, 4, 3, 3, 4, 2, 2, 2, 3, 2, 2, 0, 2, 0, 3, 2, 2, 0, 3, 1, 2, 2, 2, 2, 2, 2, 2, 4, 0, 5, 3, 2, 2, 1, 2, 3, 4, 3, 3, 4, 1, 3, 3, 2, 3, 1, 2, 3, 2, 2, 2, 5, 3, 2, 2, 0, 1, 1, 2, 2, 2, 3, 0, 4, 3, 1, 3, 1, 2, 1, 2, 1, 0, 1, 1, 3, 2, 1, 2, 3, 2, 2, 2, 2, 0, 0, 2, 0, 2, 0, 1, 3, 3, 1, 0, 3, 2, 4, 3, 0, 4, 0, 2, 2, 2, 2, 2, 2, 2, 3, 4, 1, 1, 1, 2, 2, 2, 2, 1, 1, 1, 2, 3, 5, 1, 0, 2, 2, 2, 3, 3, 2, 2, 0, 1, 1, 4, 0, 0, 3, 1, 2, 1, 5, 2, 4, 3, 2, 4, 1, 1, 0, 0, 3, 2, 2, 2, 2, 2, 2, 2, 4, 2, 2, 3, 3, 3, 5, 2, 2, 2, 1, 2, 2, 0, 0, 0, 2, 5, 0, 2, 2, 2, 0, 0, 2, 2, 2, 2, 3, 2, 0, 2, 1, 3, 2, 2, 2, 2, 3, 2, 2, 0, 3, 2, 3, 2, 2, 2, 3, 2, 2, 2, 0, 3, 2, 5, 3, 5, 1, 4, 2, 2, 1, 3, 2, 2, 2, 0, 2, 3, 3, 3, 3, 3, 2, 3, 3, 2, 0, 3, 2, 3, 2, 2, 2, 1, 2, 0, 2, 3, 3, 3, 3, 2, 0, 3, 3, 3, 2, 2, 1, 2, 3, 0, 3, 2, 3, 3, 2, 0, 2, 3, 1, 2, 2, 2, 3, 0, 5, 2, 3, 3, 3, 1, 0, 3, 2, 3, 2, 0, 4, 1, 3, 2, 0, 5, 1, 2, 2, 1, 3, 2, 5, 2, 3, 2, 0, 1, 0, 3, 0, 3, 7, 5, 0, 1, 2, 3, 5, 0, 3, 2, 3, 2, 1, 2, 0, 2, 0, 7, 0, 2, 2, 2, 3, 0, 3, 0, 3, 0, 0, 2, 0, 2, 2, 2, 2, 0, 2, 1, 2, 2, 5, 2, 3, 0, 2, 4, 2, 3, 3, 2, 2, 5, 2, 5, 1, 1, 2, 2, 2, 4, 3, 1, 4, 2, 4, 2, 5, 2, 3, 5, 3, 2, 5, 3, 2, 2, 4, 2, 0, 2, 5, 2, 2, 1, 2, 2, 3, 3, 3, 0, 4, 3, 2, 3, 3, 2, 3, 1, 4, 0, 0, 1, 2, 2, 2, 0, 2, 2, 1, 2, 0, 2, 2, 1, 1, 4, 2, 2, 1, 2, 0, 2, 2, 1, 2, 0, 2, 1, 0, 1, 0, 2, 1, 2, 2, 2, 3, 2, 1, 2, 5, 0, 3, 5, 2, 0, 2, 3, 3, 0, 0, 2, 0, 0, 2, 0, 5, 5, 2, 3, 2, 0, 2, 1, 2, 0, 2, 5, 2, 3, 1, 4, 3, 2, 3, 2, 4, 2, 0, 0, 0, 2, 1, 0, 1, 4, 0, 2, 1, 4, 3, 1, 2, 0, 1, 2, 2, 2, 2, 5, 4, 2, 2, 3, 3, 1, 2, 2, 2, 3, 5, 2, 1, 3, 3, 3, 1, 2, 2, 2, 2, 3, 3, 1, 4, 2, 1, 2, 2, 0, 2, 2, 0, 2, 0, 2, 2, 1, 2, 3, 2, 1, 2, 2, 3, 2, 0, 4, 4, 3, 2, 2, 3, 1, 1, 4, 0, 1, 0, 3, 2, 1, 0, 1, 2, 1, 0, 1, 2, 5, 4, 1, 2, 4, 2, 0, 5, 1, 2, 3, 0, 3, 2, 2, 3, 2, 1, 0, 2, 2, 0, 3, 0, 3, 2, 3, 2, 2, 5, 3, 2, 1, 2, 5, 3, 3, 2, 3, 2, 2, 1, 2, 2, 1, 3, 1, 3, 3, 2, 0, 5, 2, 2, 3, 0, 0, 2, 3, 3, 5, 3, 1, 1, 2, 2, 4, 2, 3, 3, 3, 3, 2, 3, 0, 3, 3, 3, 0, 1, 3, 0, 3, 1, 5, 3, 3, 4, 4, 1, 0, 2, 2, 2, 2, 1, 3, 3, 0, 0, 1, 3, 2, 2, 2, 1, 3, 2, 0, 0, 2, 5, 2, 0, 5, 2, 2, 2, 3, 0, 2, 3, 3, 3, 0, 2, 0, 3, 2, 1, 5, 2, 0, 5, 2, 3, 3, 1, 4, 1, 3, 2, 3, 5, 2, 2, 1, 3, 3, 0, 2, 2, 3, 2, 2, 4, 2, 3, 0, 1, 1, 5, 3, 3, 0, 1, 2, 3, 3, 1, 2, 1, 3, 2, 3, 5, 2, 2, 2, 5, 1, 2, 4, 2, 4, 1, 5, 0, 3, 0, 0, 2, 5, 2, 1, 2, 2, 2, 1, 1, 2, 2, 1, 2, 0, 2, 1, 0, 5, 0, 2, 2, 2, 2, 0, 0, 1, 2, 4, 1, 3, 2, 2, 5, 2, 0, 2, 2, 3, 2, 1, 3, 5, 2, 1, 2, 1, 2, 3, 1, 2, 0, 2, 2, 2, 2, 3, 4, 2, 3, 1, 2, 2, 5, 1, 0, 3, 0, 3, 2, 2, 0, 2, 1, 4, 4, 2, 0, 1, 4, 1, 1, 3, 2, 0, 0, 3, 2, 3, 1, 0, 3, 3, 4, 5, 2, 0, 3, 0, 2, 1, 2, 0, 2, 1, 5, 2, 2, 2, 1, 3, 0, 2, 5, 4, 2, 1, 2, 3, 3, 3, 1, 0, 0, 0, 4, 0, 3, 3, 2, 3, 2, 2, 2, 2, 4, 5, 2, 2, 5, 4, 4, 2, 1, 3, 3, 5, 0, 1, 5, 2, 2, 2, 4, 5, 3, 2, 1, 1, 3, 2, 3, 2, 5, 2, 3, 3, 2, 2, 2, 3, 1, 3, 2, 1, 2, 1, 3, 3, 2, 2, 1, 2, 0, 2, 3, 0, 1, 1, 2, 2, 3, 0, 2, 5, 2, 2, 4, 5, 3, 3, 2, 0, 0, 4, 3, 2, 1, 0, 0, 5, 3, 2, 3, 1, 0, 2, 3, 2, 1, 2, 3, 3, 3, 2, 0, 2, 2, 1, 2, 5, 0, 2, 2, 0, 2, 2, 3, 2, 4, 3, 3, 3, 2, 5, 2, 3, 1, 3, 2, 5, 1, 5, 3, 3, 2, 2, 1, 3, 0, 1, 2, 3, 2, 0, 3, 2, 3, 5, 2, 0, 2, 1, 3, 0, 4, 2, 0, 2, 2, 1, 3, 1, 5, 2, 3, 2, 2, 3, 1, 4, 1, 5, 2, 5, 3, 2, 2, 2, 3, 0, 3, 2, 1, 1, 3, 2, 2, 2, 2, 2, 2, 1, 5, 1, 3, 3, 5, 2, 1, 3, 2, 4, 2, 0, 5, 2, 1, 2, 2, 2, 5, 2, 3, 1, 2, 2, 0, 2, 2, 0, 2, 2, 3, 2, 1, 0, 2, 2, 0, 3, 2, 1, 0, 1, 0, 0, 2, 2, 3, 1, 0, 3, 3, 5, 0, 0, 1, 2, 2, 2, 2, 2, 2, 5, 2, 3, 0, 2, 3, 2, 0, 3, 1, 2, 3, 2, 0, 3, 2, 2, 2, 3, 5, 2, 3, 3, 2, 4, 4, 2, 0, 2, 1, 2, 2, 3, 2, 0, 5, 4, 2, 2, 2, 1, 2, 2, 1, 2, 2, 0, 2, 2, 2, 3, 3, 1, 2, 2, 2, 3, 2, 2, 5, 5, 2, 0, 2, 2, 3, 2, 2, 2, 3, 2, 2, 4, 3, 2, 2, 2, 2, 3, 2, 1, 1, 1, 5, 2, 3, 2, 3, 1, 1, 4, 3, 2, 4, 1, 2, 2, 2, 2, 3, 4, 2, 2, 3, 1, 3, 2, 5, 5, 3, 5, 1, 2, 2, 3, 0, 3, 0, 2, 5, 0, 1, 4, 3, 0, 2, 2, 1, 0, 3, 0, 2, 2, 2, 2, 2, 0, 3, 5, 3, 4, 2, 2, 3, 2, 0, 2, 3, 5, 4, 2, 1, 2, 2, 3, 1, 2, 2, 0, 3, 2, 3, 2, 3, 2, 3, 2, 2, 2, 2, 2, 2, 2, 1, 3, 2, 2, 3, 1, 4, 2, 3, 2, 2, 3, 2, 2, 2, 3, 1, 2, 2, 2, 2, 2, 2, 3, 1, 1, 0, 1, 2, 2, 2, 2, 2, 5, 5, 3, 1, 3, 3, 2, 3, 0, 3, 3, 1, 0, 3, 2, 3, 2, 2, 1, 2, 3, 3, 1, 1, 1, 5, 3, 0, 2, 5, 3, 5, 3, 3, 2, 1, 5, 2, 3, 2, 2, 1, 0, 2, 1, 4, 2, 2, 3, 0, 0, 2, 3, 0, 0, 2, 3, 3, 1, 2, 0, 2, 3, 0, 1, 2, 1, 3, 1, 1, 5, 2, 1, 5, 3, 2, 1, 2, 0, 1, 2, 2, 1, 5, 2, 4, 3, 2, 2, 5, 1, 0, 4, 5, 2, 3, 0, 1, 2, 3, 0, 2, 2, 1, 1, 3, 2, 3, 3, 4, 3, 0, 2, 3, 1, 5, 5, 1, 2, 1, 1, 0, 2, 2, 0, 1, 3, 2, 2, 2, 1, 2, 3, 4, 3, 3, 3, 0, 3, 1, 5, 3, 1, 0, 2, 0, 4, 0, 2, 0, 2, 0, 0, 3, 4, 0, 2, 5, 4, 2, 2, 0, 3, 2, 5, 3, 3, 2, 3, 3, 2, 0, 4, 3, 3, 3, 2, 2, 2, 3, 0, 2, 3, 2, 1, 2, 1, 4, 2, 2, 2, 2, 2, 2, 2, 2, 5, 2, 1, 3, 3, 3, 3, 3, 0, 3, 2, 3, 3, 3, 2, 3, 0, 3, 1, 0, 2, 1, 2, 3, 2, 3, 3, 2, 2, 4, 1, 5, 3, 3, 2, 5, 1, 2, 1, 2, 2, 1, 2, 2, 2, 1, 4, 5, 2, 1, 2, 0, 1, 2, 0, 0, 2, 2, 3, 3, 5, 0, 2, 2, 1, 0, 3, 4, 0, 3, 0, 4, 1, 3, 0, 2, 3, 2, 0, 3, 2, 2, 4, 0, 0, 1, 3, 1, 2, 3, 2, 5, 2, 3, 0, 0, 3, 0, 3, 1, 3, 2, 2, 5, 5, 2, 5, 2, 2, 1, 0, 2, 1, 2, 2, 0, 1, 3, 3, 3, 4, 2, 1, 3, 2, 2, 3, 3, 3, 2, 2, 4, 1, 1, 4, 2, 2, 2, 2, 4, 2, 2, 4, 0, 1, 3, 2, 2, 2, 2, 2, 2, 2, 2, 2, 4, 1, 0, 0, 2, 1, 3, 0, 2, 3, 2, 2, 0, 3, 2, 2, 1, 2, 4, 5, 2, 0, 2, 2, 1, 2, 2, 0, 2, 0, 1, 2, 2, 0, 0, 0, 0, 1, 2, 1, 2, 3, 3, 1, 2, 3, 2, 2, 2, 2, 0, 3, 1, 3, 2, 4, 0, 0, 2, 2, 4, 2, 2, 2, 0, 1, 0, 3, 3, 1, 2, 2, 2, 3, 2, 0, 2, 1, 1, 3, 0, 0, 2, 1, 5, 3, 3, 2, 3, 4, 2, 2, 0, 1, 3, 0, 2, 2, 1, 1, 2, 0, 1, 2, 1, 2, 5, 0, 2, 2, 5, 1, 4, 1, 2, 1, 3, 2, 0, 4, 2, 3, 1, 1, 1, 5, 3, 3, 3, 5, 1, 2, 5, 2, 1, 0, 3, 1, 2, 0, 3, 2, 1, 3, 2, 0, 3, 2, 3, 3, 2, 2, 2, 2, 3, 2, 3, 3, 2, 0, 3, 4, 1, 2, 1, 0, 1, 2, 2, 2, 0, 2, 3, 2, 0, 3, 2, 2, 2, 2, 0, 2, 2, 3, 3, 0, 0, 2, 0, 2, 3, 3, 1, 3, 0, 1, 2, 2, 3, 4, 0, 1, 3, 3, 2, 2, 0, 2, 0, 2, 4, 2, 2, 2, 2, 0, 2, 2, 5, 3, 4, 2, 1, 2, 2, 3, 1, 2, 3, 2, 2, 0, 0, 2, 4, 0, 2, 2, 2, 0, 0, 0, 0, 2, 1, 0, 0, 3, 2, 4, 3, 2, 0, 0, 2, 2, 2, 3, 2, 3, 3, 3, 0, 2, 3, 4, 5, 2, 2, 2, 4, 3, 2, 3, 2, 3, 3, 1, 3, 2, 5, 2, 5, 1, 1, 3, 2, 3, 3, 0, 3, 2, 1, 2, 1, 2, 0, 2, 2, 2, 4, 2, 2, 2, 1, 2, 0, 2, 2, 2, 2, 2, 0, 3, 2, 2, 2, 3, 4, 3, 0, 2, 1, 3, 0, 2, 4, 1, 2, 2, 2, 2, 1, 3, 1, 0, 0, 1, 2, 1, 1, 3, 0, 0, 2, 2, 1, 3, 2, 0, 2, 1, 3, 2, 0, 3, 2, 2, 3, 3, 2, 2, 5, 5, 3, 3, 2, 2, 1, 2, 2, 2, 2, 2, 2, 2, 5, 1, 5, 4, 2, 0, 1, 2, 2, 1, 4, 3, 3, 2, 4, 1, 2, 2, 1, 4, 2, 4, 2, 1, 1, 3, 2, 3, 2, 2, 3, 3, 1, 5, 2, 3, 0, 2, 0, 5, 3, 1, 2, 1, 3, 0, 2, 0, 2, 2, 0, 2, 1, 1, 2, 0, 0, 1, 3, 3, 0, 0, 2, 2, 2, 1, 5, 0, 2, 1, 4, 3, 3, 2, 2, 2, 0, 5, 5, 5, 0, 2, 2, 0, 5, 2, 2, 2, 4, 2, 5, 3, 2, 1, 1, 5, 2, 2, 2, 3, 2, 3, 2, 0, 3, 2, 2, 1, 0, 5, 0, 2, 2, 1, 2, 2, 2, 5, 1, 0, 3, 3, 3, 2, 2, 4, 2, 1, 2, 1, 0, 1, 3, 2, 2, 1, 5, 1, 0, 0, 2, 1, 0, 3, 2, 2, 1, 3, 5, 3, 4, 0, 2, 2, 1, 3, 2, 5, 5, 3, 5, 2, 2, 3, 4, 3, 4, 0, 0, 1, 2, 0, 5, 0, 0, 1, 2, 2, 1, 1, 3, 2, 2, 2, 2, 0, 2, 3, 3, 2, 3, 2, 2, 2, 1, 0, 1, 3, 2, 0, 0, 2, 1, 0, 2, 4, 1, 0, 2, 2, 3, 1, 3, 2, 2, 0, 2, 2, 2, 0, 0, 0, 2, 2, 5, 2, 2, 3, 2, 1, 3, 5, 3, 5, 3, 2, 3, 1, 3, 0, 1, 3, 4, 4, 2, 4, 1, 3, 3, 1, 0, 0, 3, 1, 5, 1, 1, 0, 2, 3, 1, 3, 2, 0, 1, 3, 4, 2, 3, 2, 0, 1, 2, 0, 2, 5, 2, 2, 0, 2, 0, 0, 5, 2, 3, 3, 3, 2, 0, 3, 1, 2, 5, 3, 5, 4, 3, 3, 0, 2, 2, 5, 3, 0, 1, 2, 1, 1, 3, 1, 5, 1, 3, 2, 3, 2, 3, 2, 0, 1, 2, 2, 1, 4, 4, 0, 0, 2, 0, 2, 3, 3, 2, 1, 2, 3, 2, 4, 3, 2, 2, 2, 2, 3, 2, 5, 3, 2, 3, 0, 2, 2, 0, 2, 3, 2, 1, 2, 0, 0, 3, 5, 2, 0, 2, 2, 3, 4, 0, 2, 2, 2, 0, 1, 1, 3, 0, 1, 2, 2, 3, 1, 4, 5, 3, 0, 0, 3, 5, 3, 5, 3, 4, 5, 0, 2, 3, 1, 1, 2, 2, 3, 2, 0, 3, 2, 2, 0, 4, 2, 5, 5, 2, 2, 1, 0, 1, 0, 2, 2, 3, 3, 2, 0, 2, 1, 0, 1, 2, 3, 1, 3, 4, 0, 2, 2, 2, 2, 2, 3, 3, 5, 3, 4, 3, 0, 2, 3, 5, 4, 2, 2, 5, 2, 2, 2, 2, 2, 3, 2, 2, 2, 2, 2, 3, 2, 3, 3, 1, 2, 3, 3, 2, 2, 2, 5, 5, 5, 4, 2, 5, 5, 1, 5, 2, 3, 5, 2, 0, 2, 2, 2, 0, 5, 5, 1, 0, 3, 3, 2, 0, 0, 2, 4, 1, 2, 1, 4, 0, 3, 2, 5, 4, 0, 2, 3, 5, 2, 2, 2, 2, 1, 2, 0, 0, 2, 0, 2, 3, 1, 5, 3, 5, 2, 2, 2, 2, 3, 1, 2, 2, 2, 0, 3, 2, 0, 4, 2, 3, 3, 3, 4, 4, 2, 1, 1, 0, 2, 3, 2, 2, 4, 0, 2, 2, 2, 7, 2, 2, 1, 3, 1, 2, 2, 2, 2, 2, 0, 3, 3, 5, 1, 3, 2, 3, 1, 2, 1, 2, 5, 3, 3, 2, 2, 0, 1, 2, 0, 4, 5, 2, 0, 0, 3, 3, 0, 1, 1, 2, 3, 3, 0, 0, 2, 2, 3, 2, 3, 1, 0, 1, 4, 3, 2, 2, 0, 0, 0, 1, 2, 3, 2, 4, 2, 3, 2, 2, 0, 1, 4, 0, 3, 3, 4, 1, 1, 2, 1, 2, 0, 3, 0, 2, 2, 3, 1, 5, 0, 4, 2, 2, 3, 4, 2, 0, 3, 4, 2, 5, 1, 2, 0, 1, 3, 0, 2, 0, 1, 3, 3, 2, 1, 1, 1, 3, 0, 1, 1, 5, 2, 3, 7, 3, 0, 2, 5, 2, 0, 0, 1, 0, 2, 0, 1, 3, 2, 2, 2, 0, 0, 2, 1, 1, 3, 3, 4, 2, 2, 2, 5, 2, 2, 3, 0, 1, 1, 2, 3, 0, 0, 2, 2, 0, 2, 1, 3, 2, 3, 0, 0, 3, 1, 2, 3, 2, 0, 2, 2, 2, 5, 0, 3, 1, 1, 1, 1, 0, 2, 1, 2, 5, 5, 1, 2, 2, 2, 1, 5, 2, 3, 5, 1, 2, 2, 3, 3, 2, 2, 1, 0, 2, 1, 0, 3, 1, 2, 2, 3, 0, 2, 5, 5, 2, 2, 2, 1, 2, 3, 2, 4, 2, 2, 2, 2, 2, 2, 4, 0, 1, 1, 3, 2, 5, 2, 2, 2, 1, 3, 1, 3, 2, 1, 2, 2, 5, 1, 0, 2, 3, 5, 2, 2, 0, 2, 3, 0, 2, 1, 1, 2, 1, 2, 1, 3, 3, 5, 2, 1, 1, 3, 1, 3, 0, 1, 2, 2, 1, 0, 3, 0, 5, 5, 0, 1, 2, 1, 2, 2, 5, 2, 3, 2, 2, 5, 1, 2, 2, 2, 2, 1, 2, 0, 2, 3, 2, 5, 2, 2, 2, 2, 0, 2, 1, 2, 1, 0, 2, 3, 2, 2, 3, 0, 1, 0, 3, 2, 3, 1, 1, 2, 0, 0, 2, 5, 3, 2, 3, 0, 3, 1, 3, 4, 5, 2, 2, 1, 4, 3, 1, 5, 1, 4, 2, 0, 2, 2, 0, 0, 2, 2, 3, 4, 3, 4, 1, 3, 0, 2, 2, 3, 1, 1, 1, 3, 2, 2, 2, 4, 2, 2, 0, 3, 0, 2, 2, 0, 3, 3, 1, 1, 3, 2, 2, 4, 2, 2, 0, 3, 3, 3, 2, 1, 1, 3, 2, 1, 2, 0, 2, 0, 2, 5, 5, 2, 0, 0, 2, 2, 2, 2, 2, 5, 1, 5, 2, 1, 2, 0, 2, 0, 2, 3, 2, 2, 2, 2, 3, 5, 5, 5, 3, 2, 2, 1, 0, 4, 1, 2, 3, 2, 2, 1, 0, 3, 2, 2, 0, 1, 2, 0, 2, 0, 2, 3, 2, 0, 2, 2, 2, 2, 2, 2, 2, 3, 3, 2, 0, 2, 3, 3, 4, 2, 2, 5, 2, 3, 4, 4, 1, 5, 0, 0, 5, 2, 2, 3, 1, 0, 2, 2, 2, 2, 2, 2, 2, 2, 1, 5, 1, 5, 0, 2, 1, 2, 2, 5, 2, 2, 0, 1, 2, 5, 2, 2, 3, 0, 2, 2, 4, 1, 2, 0, 0, 0, 2, 2, 2, 3, 2, 1, 1, 3, 3, 2, 0, 4, 1, 1, 2, 2, 1, 2, 3, 5, 2, 2, 1, 2, 3, 1, 0, 1, 3, 2, 2, 4, 0, 2, 0, 0, 0, 3, 2, 3, 0, 2, 5, 2, 1, 2, 0, 0, 2, 4, 1, 3, 3, 4, 0, 1, 3, 2, 1, 0, 2, 2, 3, 3, 2, 2, 2, 2, 1, 0, 5, 1, 3, 0, 0, 2, 2, 1, 0, 4, 0, 2, 4, 2, 2, 2, 3, 1, 2, 2, 2, 2, 3, 2, 2, 1, 1, 5, 2, 3, 2, 3, 3, 3, 2, 5, 2, 0, 4, 1, 2, 2, 1, 2, 2, 0, 2, 0, 2, 0, 3, 3, 2, 1, 1, 0, 2, 3, 4, 2, 0, 3, 2, 2, 2, 1, 1, 5, 4, 5, 0, 0, 0, 2, 1, 3, 2, 2, 1, 2, 0, 3, 5, 2, 1, 2, 2, 0, 7, 2, 0, 4, 4, 3, 2, 3, 2, 2, 0, 2, 2, 5, 2, 2, 4, 1, 4, 2, 2, 3, 3, 5, 0, 1, 3, 2, 2, 3, 1, 2, 1, 0, 2, 3, 3, 3, 5, 4, 2, 2, 3, 2, 3, 2, 4, 3, 0, 3, 2, 2, 2, 2, 3, 0, 2, 2, 2, 1, 3, 5, 1, 2, 3, 0, 3, 5, 1, 3, 5, 4, 3, 3, 3, 1, 1, 2, 2, 2, 2, 2, 2, 2, 2, 3, 3, 1, 3, 2, 0, 0, 3, 0, 1, 1, 2, 2, 0, 2, 3, 2, 1, 2, 0, 3, 1, 1, 0, 0, 0, 2, 7, 4, 0, 2, 2, 3, 2, 3, 1, 1, 2, 0, 2, 3, 0, 3, 2, 2, 3, 2, 3, 1, 1, 5, 2, 1, 0, 4, 2, 2, 2, 3, 2, 3, 0, 3, 0, 2, 2, 2, 2, 2, 2, 4, 1, 2, 0, 3, 3, 1, 2, 4, 3, 0, 2, 2, 1, 2, 3, 4, 5, 0, 0, 7, 2, 4, 1, 3, 2, 2, 0, 5, 0, 2, 0, 0, 4, 2, 2, 1, 3, 3, 2, 4, 2, 0, 1, 1, 1, 0, 5, 0, 1, 3, 0, 0, 3, 2, 0, 2, 5, 4, 2, 5, 3, 0, 2, 1, 5, 2, 1, 2, 3, 2, 0, 2, 2, 2, 2, 5, 2, 2, 0, 1, 5, 1, 2, 2, 2, 2, 4, 2, 4, 2, 2, 0, 2, 2, 2, 0, 1, 2, 1, 2, 3, 5, 2, 2, 1, 4, 1, 2, 3, 0, 2, 3, 1, 1, 1, 3, 4, 1, 0, 0, 0, 0, 0, 2, 3, 2, 2, 3, 3, 1, 0, 2, 1, 2, 2, 0, 2, 3, 0, 0, 5, 2, 1, 5, 2, 3, 0, 2, 2, 2, 2, 1, 2, 3, 4, 3, 2, 3, 5, 2, 3, 5, 2, 1, 4, 3, 1, 2, 0, 1, 1, 3, 0, 1, 3, 3, 4, 2, 5, 1, 2, 2, 2, 1, 2, 2, 4, 0, 2, 0, 2, 3, 3, 0, 2, 3, 2, 0, 1, 2, 2, 2, 3, 2, 0, 2, 0, 0, 2, 2, 1, 2, 5, 5, 2, 0, 4, 2, 2, 1, 0, 2, 1, 2, 2, 0, 2, 2, 2, 2, 5, 5, 2, 4, 2, 2, 2, 2, 0, 0, 1, 2, 3, 0, 3, 3, 3, 2, 1, 2, 3, 1, 1, 3, 0, 2, 1, 3, 2, 2, 0, 3, 2, 1, 0, 2, 2, 2, 2, 1, 5, 2, 3, 3, 1, 2, 2, 1, 4, 3, 5, 5, 3, 0, 4, 5, 2, 5, 3, 2, 2, 2, 2, 3, 2, 2, 0, 1, 2, 0, 0, 1, 2, 5, 2, 2, 0, 2, 2, 2, 5, 0, 0, 2, 0, 2, 3, 2, 2, 0, 2, 2, 3, 5, 0, 1, 1, 5, 0, 5, 4, 3, 5, 1, 2, 0, 3, 3, 2, 3, 1, 5, 0, 3, 1, 2, 3, 2, 3, 0, 2, 2, 3, 2, 5, 2, 3, 0, 2, 0, 1, 1, 2, 5, 5, 3, 2, 2, 3, 2, 5, 1, 0, 2, 2, 2, 3, 2, 3, 0, 2, 1, 3, 0, 0, 2, 0, 3, 3, 5, 2, 0, 0, 0, 2, 2, 0, 0, 2, 5, 3, 3, 3, 2, 1, 1, 1, 2, 0, 5, 1, 1, 3, 2, 0, 4, 3, 1, 2, 0, 2, 2, 2, 2, 2, 0, 3, 1, 5, 3, 3, 3, 1, 0, 3, 0, 3, 3, 3, 2, 2, 2, 0, 2, 0, 0, 2, 2, 5, 2, 1, 4, 0, 2, 1, 3, 2, 2, 1, 2, 2, 3, 0, 2, 2, 0, 5, 1, 1, 2, 1, 3, 3, 4, 1, 1, 3, 2, 0, 3, 3, 3, 2, 2, 0, 2, 2, 2, 4, 1, 3, 2, 1, 0, 3, 1, 2, 2, 3, 0, 2, 4, 1, 0, 2, 2, 3, 0, 2, 1, 2, 3, 5, 5, 2, 0, 2, 2, 2, 2, 1, 3, 2, 2, 4, 3, 2, 0, 2, 5, 5, 1, 0, 1, 5, 2, 2, 3, 3, 3, 5, 2, 4, 2, 2, 2, 1, 1, 2, 2, 0, 3, 0, 1, 2, 0, 5, 0, 2, 2, 4, 2, 0, 5, 1, 5, 2, 1, 2, 2, 2, 0, 0, 2, 2, 0, 2, 2, 0, 2, 2, 2, 2, 1, 4, 5, 3, 1, 2, 3, 3, 0, 2, 2, 1, 2, 5, 0, 2, 2, 3, 4, 2, 5, 3, 3, 3, 3, 2, 1, 2, 3, 2, 4, 0, 3, 1, 4, 0, 1, 2, 1, 5, 2, 0, 5, 2, 2, 2, 2, 0, 2, 2, 3, 2, 3, 2, 0, 0, 1, 4, 1, 2, 2, 1, 2, 5, 1, 3, 4, 4, 0, 3, 1, 2, 3, 2, 1, 0, 2, 1, 2, 0, 0, 2, 2, 5, 2, 2, 2, 3, 2, 5, 1, 0, 5, 4, 2, 3, 2, 2, 0, 1, 3, 2, 5, 0, 3, 2, 2, 2, 3, 3, 2, 2, 2, 0, 3, 3, 2, 2, 2, 2, 1, 2, 0, 1, 1, 2, 2, 5, 2, 2, 1, 3, 2, 5, 2, 0, 1, 2, 2, 5, 2, 5, 2, 1, 1, 2, 5, 2, 2, 2, 2, 2, 2, 2, 1, 3, 4, 2, 2, 3, 2, 5, 2, 4, 3, 2, 2, 3, 2, 1, 2, 1, 2, 3, 3, 3, 2, 0, 0, 2, 2, 1, 1, 1, 0, 0, 2, 2, 3, 3, 2, 2, 2, 5, 2, 3, 3, 2, 1, 0, 5, 1, 2, 1, 1, 2, 2, 5, 1, 2, 1, 3, 3, 1, 3, 2, 3, 2, 4, 2, 0, 1, 4, 0, 2, 1, 2, 0, 3, 2, 1, 3, 1, 2, 2, 2, 2, 0, 3, 0, 1, 2, 1, 2, 1, 1, 2, 4, 2, 2, 2, 3, 2, 1, 3, 5, 2, 1, 2, 2, 1, 0, 0, 2, 0, 2, 2, 0, 2, 3, 2, 3, 5, 0, 2, 2, 0, 5, 2, 2, 2, 2, 3, 1, 2, 2, 2, 5, 2, 5, 3, 2, 2, 3, 0, 2, 5, 0, 5, 2, 4, 0, 3, 0, 3, 1, 1, 3, 3, 2, 0, 3, 3, 1, 2, 0, 5, 2, 1, 3, 0, 4, 2, 3, 4, 0, 3, 2, 2, 3, 3, 1, 2, 2, 5, 2, 2, 0, 2, 3, 0, 1, 0, 3, 2, 1, 4, 0, 2, 2, 4, 2, 1, 2, 2, 1, 2, 0, 2, 0, 1, 2, 2, 2, 3, 3, 0, 2, 3, 3, 3, 3, 5, 2, 3, 2, 4, 1, 3, 3, 2, 2, 1, 3, 0, 0, 0, 2, 0, 1, 2, 2, 0, 5, 0, 0, 4, 4, 2, 7, 2, 5, 3, 2, 2, 2, 2, 1, 1, 3, 5, 2, 3, 2, 2, 1, 2, 2, 1, 2, 0, 3, 5, 2, 0, 3, 3, 0, 4, 2, 2, 1, 2, 1, 2, 2, 0, 5, 1, 5, 0, 3, 2, 5, 2, 3, 3, 2, 1, 0, 1, 4, 0, 3, 5, 3, 0, 2, 2, 0, 3, 3, 4, 0, 2, 2, 5, 1, 2, 0, 1, 0, 0, 2, 5, 2, 1, 2, 0, 0, 3, 3, 1, 5, 1, 5, 1, 2, 2, 2, 1, 2, 2, 5, 2, 0, 2, 0, 1, 1, 5, 3, 3, 3, 3, 2, 4, 0, 1, 2, 2, 3, 2, 0, 2, 3, 0, 2, 3, 0, 5, 0, 3, 3, 5, 2, 1, 1, 3, 2, 2, 3, 2, 1, 0, 3, 3, 2, 3, 2, 1, 4, 5, 2, 3, 5, 4, 3, 2, 2, 4, 0, 0, 4, 2, 3, 2, 0, 2, 3, 3, 0, 5, 2, 2, 0, 3, 3, 2, 3, 2, 0, 1, 2, 3, 2, 2, 2, 2, 0, 1, 5, 1, 5, 0, 2, 0, 2, 1, 1, 3, 3, 2, 2, 1, 2, 1, 0, 2, 0, 2, 0, 2, 5, 5, 0, 3, 1, 2, 1, 0, 3, 2, 2, 1, 4, 0, 1, 3, 0, 5, 3, 2, 3, 1, 3, 5, 0, 5, 0, 1, 0, 5, 0, 2, 2, 2, 2, 2, 5, 0, 1, 3, 2, 1, 3, 2, 2, 3, 0, 2, 1, 5, 1, 3, 2, 0, 3, 5, 0, 2, 3, 1, 2, 2, 3, 2, 2, 4, 1, 1, 2, 2, 5, 0, 3, 2, 2, 1, 3, 2, 0, 1, 2, 0, 2, 2, 2, 2, 2, 0, 2, 2, 1, 3, 2, 3, 3, 3, 3, 2, 2, 5, 2, 1, 2, 0, 2, 4, 0, 3, 0, 0, 1, 1, 5, 2, 2, 2, 3, 2, 1, 3, 0, 3, 2, 5, 3, 2, 0, 4, 2, 2, 0, 2, 0, 3, 1, 2, 2, 5, 2, 2, 5, 1, 0, 2, 2, 1, 2, 1, 3, 5, 3, 2, 3, 1, 3, 3, 1, 3, 5, 2, 5, 2, 1, 2, 1, 2, 0, 5, 2, 0, 3, 0, 2, 2, 3, 3, 3, 3, 1, 0, 1, 4, 2, 2, 3, 0, 3, 1, 1, 0, 2, 3, 0, 3, 3, 0, 5, 5, 1, 3, 2, 0, 1, 3, 2, 4, 0, 1, 3, 1, 0, 3, 2, 4, 2, 2, 2, 1, 1, 1, 3, 2, 2, 0, 2, 2, 1, 3, 2, 2, 0, 3, 0, 2, 0, 5, 3, 5, 2, 3, 0, 0, 2, 1, 2, 2, 3, 2, 1, 5, 2, 2, 2, 2, 4, 2, 1, 3, 2, 2, 1, 4, 5, 0, 3, 2, 2, 3, 0, 1, 2, 2, 3, 2, 3, 3, 2, 0, 4, 2, 1, 0, 1, 0, 3, 0, 3, 3, 2, 2, 2, 2, 3, 3, 3, 2, 0, 4, 4, 5, 2, 5, 1, 2, 2, 3, 4, 0, 2, 2, 0, 2, 2, 2, 0, 0, 1, 2, 0, 1, 2, 2, 3, 2, 3, 3, 3, 2, 0, 3, 2, 2, 0, 4, 3, 0, 2, 2, 2, 1, 2, 0, 2, 2, 0, 2, 1, 3, 2, 2, 1, 2, 0, 3, 1, 2, 2, 2, 2, 1, 0, 0, 3, 2, 1, 2, 1, 3, 2, 2, 3, 2, 2, 2, 3, 0, 5, 3, 0, 0, 2, 3, 2, 3, 0, 2, 3, 2, 2, 3, 3, 3, 2, 2, 3, 1, 0, 2, 0, 0, 4, 0, 2, 2, 3, 2, 4, 2, 0, 3, 3, 3, 3, 3, 2, 5, 2, 2, 2, 2, 5, 2, 2, 1, 2, 1, 3, 2, 2, 2]\n"
          ]
        }
      ],
      "source": [
        "y_classes = [np.argmax(y) for y in y_pred]\n",
        "print(y_classes)"
      ]
    },
    {
      "cell_type": "code",
      "execution_count": 62,
      "metadata": {
        "colab": {
          "base_uri": "https://localhost:8080/"
        },
        "id": "_qLuWohQNbyZ",
        "outputId": "2a228936-7e86-430f-cc07-ad5403655b45"
      },
      "outputs": [
        {
          "output_type": "execute_result",
          "data": {
            "text/plain": [
              "array([[0., 0., 1., ..., 0., 0., 0.],\n",
              "       [0., 0., 1., ..., 0., 0., 0.],\n",
              "       [0., 0., 1., ..., 0., 0., 0.],\n",
              "       ...,\n",
              "       [0., 0., 1., ..., 0., 0., 0.],\n",
              "       [0., 0., 1., ..., 0., 0., 0.],\n",
              "       [0., 0., 1., ..., 0., 0., 0.]], dtype=float32)"
            ]
          },
          "metadata": {},
          "execution_count": 62
        }
      ],
      "source": [
        "y_pred = to_categorical(y_classes,num_classes=8)\n",
        "y_pred"
      ]
    },
    {
      "cell_type": "code",
      "execution_count": 63,
      "metadata": {
        "colab": {
          "base_uri": "https://localhost:8080/"
        },
        "id": "3L4Fy_olNbya",
        "outputId": "24ad02e3-c773-4c2a-bb79-e8162b3d46b7"
      },
      "outputs": [
        {
          "output_type": "execute_result",
          "data": {
            "text/plain": [
              "array([[0., 0., 1., ..., 0., 0., 0.],\n",
              "       [0., 0., 1., ..., 0., 0., 0.],\n",
              "       [1., 0., 0., ..., 0., 0., 0.],\n",
              "       ...,\n",
              "       [0., 0., 1., ..., 0., 0., 0.],\n",
              "       [0., 0., 0., ..., 0., 0., 0.],\n",
              "       [1., 0., 0., ..., 0., 0., 0.]], dtype=float32)"
            ]
          },
          "metadata": {},
          "execution_count": 63
        }
      ],
      "source": [
        "y_test"
      ]
    },
    {
      "cell_type": "code",
      "execution_count": 65,
      "metadata": {
        "colab": {
          "base_uri": "https://localhost:8080/"
        },
        "id": "OQt_pMlONbya",
        "outputId": "2ebcbc58-84ec-4f0d-90ed-5c2206846f68"
      },
      "outputs": [
        {
          "output_type": "stream",
          "name": "stdout",
          "text": [
            "              precision    recall  f1-score   support\n",
            "\n",
            "           0       0.54      0.59      0.56      1580\n",
            "           1       0.65      0.56      0.60      2031\n",
            "           2       0.58      0.73      0.65      3645\n",
            "           3       0.51      0.51      0.51      2300\n",
            "           4       0.77      0.66      0.71       692\n",
            "           5       0.51      0.33      0.40      1214\n",
            "           6       0.00      0.00      0.00        37\n",
            "           7       0.10      0.01      0.02       229\n",
            "\n",
            "   micro avg       0.58      0.58      0.58     11728\n",
            "   macro avg       0.46      0.42      0.43     11728\n",
            "weighted avg       0.57      0.58      0.56     11728\n",
            " samples avg       0.58      0.58      0.58     11728\n",
            "\n"
          ]
        }
      ],
      "source": [
        "from sklearn.metrics import classification_report\n",
        "print(classification_report(y_test,y_pred))"
      ]
    },
    {
      "cell_type": "markdown",
      "source": [
        "### Model Testing"
      ],
      "metadata": {
        "id": "yVzc25TGeuyx"
      }
    },
    {
      "cell_type": "code",
      "execution_count": 78,
      "metadata": {
        "colab": {
          "base_uri": "https://localhost:8080/"
        },
        "id": "GRVHTDAiNbya",
        "outputId": "b111799c-ed71-4a8d-ba9c-23c2658bc774"
      },
      "outputs": [
        {
          "output_type": "execute_result",
          "data": {
            "text/plain": [
              "{0: 'anger',\n",
              " 1: 'fear',\n",
              " 2: 'joy',\n",
              " 3: 'sadness',\n",
              " 4: 'neutral',\n",
              " 5: 'surprise',\n",
              " 6: 'shame',\n",
              " 7: 'disgust'}"
            ]
          },
          "metadata": {},
          "execution_count": 78
        }
      ],
      "source": [
        "actual_lables = {'anger':0,'fear':1,'joy':2,'sadness':3,'neutral':4,'surprise':5,'shame':6,'disgust':7}\n",
        "actual_lables = {v: k for k, v in actual_lables.items()}\n",
        "actual_lables"
      ]
    },
    {
      "cell_type": "code",
      "source": [
        "sent = \"Today I am very happy\"\n",
        "onehot_repr1 = [one_hot(words,vocab_size) for words in [sent]]\n",
        "onehot_repr1\n"
      ],
      "metadata": {
        "colab": {
          "base_uri": "https://localhost:8080/"
        },
        "id": "as_UCWacX_WR",
        "outputId": "2b374d9b-4198-4b70-db02-f6f08d9616e1"
      },
      "execution_count": 81,
      "outputs": [
        {
          "output_type": "execute_result",
          "data": {
            "text/plain": [
              "[[4760, 1382, 4418, 3251, 1133]]"
            ]
          },
          "metadata": {},
          "execution_count": 81
        }
      ]
    },
    {
      "cell_type": "code",
      "source": [
        "def preprocess_data(data):\n",
        "  onehot_repr = [one_hot(words,vocab_size) for words in [data]]\n",
        "  sent_length=50\n",
        "  docs = pad_sequences(onehot_repr,padding='pre',maxlen=sent_length)\n",
        "\n",
        "  return docs"
      ],
      "metadata": {
        "id": "l-QXHYRydtqW"
      },
      "execution_count": 92,
      "outputs": []
    },
    {
      "cell_type": "code",
      "source": [
        "model.predict(preprocess_data(sent))"
      ],
      "metadata": {
        "colab": {
          "base_uri": "https://localhost:8080/"
        },
        "id": "dURBq9DBaEmB",
        "outputId": "b9f9558b-001c-4e82-843d-d62c804180b5"
      },
      "execution_count": 93,
      "outputs": [
        {
          "output_type": "stream",
          "name": "stdout",
          "text": [
            "1/1 [==============================] - 0s 24ms/step\n"
          ]
        },
        {
          "output_type": "execute_result",
          "data": {
            "text/plain": [
              "array([[0.18584318, 0.03256752, 0.60400397, 0.06645786, 0.02346527,\n",
              "        0.06442963, 0.0041515 , 0.01908105]], dtype=float32)"
            ]
          },
          "metadata": {},
          "execution_count": 93
        }
      ]
    },
    {
      "cell_type": "code",
      "source": [
        "prediction = np.argmax(model.predict(preprocess_data(sent)))"
      ],
      "metadata": {
        "colab": {
          "base_uri": "https://localhost:8080/"
        },
        "id": "tKPtyxekabRj",
        "outputId": "1a710718-4f80-4f0b-c01b-81729ff43904"
      },
      "execution_count": 94,
      "outputs": [
        {
          "output_type": "stream",
          "name": "stdout",
          "text": [
            "1/1 [==============================] - 0s 19ms/step\n"
          ]
        }
      ]
    },
    {
      "cell_type": "code",
      "source": [
        "actual_lables[prediction]"
      ],
      "metadata": {
        "colab": {
          "base_uri": "https://localhost:8080/",
          "height": 36
        },
        "id": "NvMt5_UxeaZh",
        "outputId": "f959aa1e-be76-4a8c-f878-efe775bee27f"
      },
      "execution_count": 96,
      "outputs": [
        {
          "output_type": "execute_result",
          "data": {
            "text/plain": [
              "'joy'"
            ],
            "application/vnd.google.colaboratory.intrinsic+json": {
              "type": "string"
            }
          },
          "metadata": {},
          "execution_count": 96
        }
      ]
    },
    {
      "cell_type": "code",
      "source": [],
      "metadata": {
        "id": "z34OYZH4efrY"
      },
      "execution_count": null,
      "outputs": []
    }
  ],
  "metadata": {
    "kernelspec": {
      "display_name": "Python 3 (ipykernel)",
      "language": "python",
      "name": "python3"
    },
    "language_info": {
      "codemirror_mode": {
        "name": "ipython",
        "version": 3
      },
      "file_extension": ".py",
      "mimetype": "text/x-python",
      "name": "python",
      "nbconvert_exporter": "python",
      "pygments_lexer": "ipython3",
      "version": "3.9.12"
    },
    "colab": {
      "provenance": [],
      "toc_visible": true
    },
    "accelerator": "GPU",
    "gpuClass": "standard"
  },
  "nbformat": 4,
  "nbformat_minor": 0
}